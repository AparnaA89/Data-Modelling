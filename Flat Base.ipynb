{
 "cells": [
  {
   "cell_type": "code",
   "execution_count": 24,
   "metadata": {},
   "outputs": [],
   "source": [
    "import pandas as pd\n",
    "from pandas import DataFrame, read_excel, merge\n",
    "import numpy as np\n",
    "import matplotlib.pyplot as plt\n",
    "#import rex\n",
    "from collections import OrderedDict\n",
    "import seaborn as sns\n",
    "import matplotlib as mt"
   ]
  },
  {
   "cell_type": "code",
   "execution_count": 77,
   "metadata": {},
   "outputs": [],
   "source": [
    "data = pd.read_csv('D:\\\\Learning\\\\Time Series Analysis - Real time data\\\\Flat_Base\\\\Flat_Base_updated.csv', encoding=\"utf-8\")"
   ]
  },
  {
   "cell_type": "code",
   "execution_count": 78,
   "metadata": {},
   "outputs": [],
   "source": [
    "#data.dtypes"
   ]
  },
  {
   "cell_type": "code",
   "execution_count": 79,
   "metadata": {},
   "outputs": [],
   "source": [
    "data['end'] = data['end'] .apply(str)\n",
    "data['line_start'] = data['line_start'] .apply(str)\n",
    "data['lower_line_y_val'] = data['lower_line_y_val'] .apply(str)\n",
    "data['start_point'] = data['start_point'] .apply(str)\n",
    "data['upper_line_y_val'] = data['upper_line_y_val'] .apply(str)"
   ]
  },
  {
   "cell_type": "code",
   "execution_count": 80,
   "metadata": {},
   "outputs": [],
   "source": [
    "data['x']=data['end']+\",\"+data['line_start']+\",\"+data['lower_line_y_val']+\",\"+data['start_point']+\",\"+data['upper_line_y_val']\n",
    "data['y']=['end','line_start','lower_line_y_val','start_point','upper_line_y_val']\n",
    "data = data.drop(columns=['Unnamed: 0'])\n",
    "data1=data[[\"x\",\"y\"]]\n",
    "data1.to_csv('D:\\\\Learning\\\\Time Series Analysis - Real time data\\\\Flat_Base\\\\Flat_Base_updated1_only_co-ordinates.csv')\n",
    "data11 = pd.read_csv('D:\\\\Learning\\\\Time Series Analysis - Real time data\\\\Flat_Base\\\\Flat_Base_updated1_only_co-ordinates.csv', encoding = \"utf-8\")\n",
    "data11 = data11.drop(columns=['Unnamed: 0'])"
   ]
  },
  {
   "cell_type": "code",
   "execution_count": 81,
   "metadata": {},
   "outputs": [],
   "source": [
    "data2 = pd.DataFrame(data11)\n",
    "data2[\"first_x\"] = data2[\"x\"][0]\n",
    "data2[\"first_y\"] = data2[\"y\"][0]\n",
    "data2[\"first_x\"][1:4] = \"\"\n",
    "data2[\"first_y\"][1:4] = \"\"\n",
    "data2[\"x\"].apply(lambda x: len(x.split(',')))\n",
    "data3 = data2.drop(columns=['x','y'])"
   ]
  },
  {
   "cell_type": "code",
   "execution_count": 82,
   "metadata": {},
   "outputs": [],
   "source": [
    "newx = data3[\"first_x\"].str.split(\",\", n =4, expand = True)\n",
    "newy = data3[\"first_y\"].str.split(\",\", n =4, expand = True)\n",
    "data3[\"x_0\"] = pd.to_numeric(newx[0])\n",
    "data3[\"x_1\"] = pd.to_numeric(newx[1])\n",
    "data3[\"x_2\"] = pd.to_numeric(newx[2])\n",
    "data3[\"x_3\"] = pd.to_numeric(newx[3])\n",
    "data3[\"x_4\"] = pd.to_numeric(newx[4])"
   ]
  },
  {
   "cell_type": "code",
   "execution_count": 83,
   "metadata": {},
   "outputs": [
    {
     "data": {
      "text/html": [
       "<div>\n",
       "<style scoped>\n",
       "    .dataframe tbody tr th:only-of-type {\n",
       "        vertical-align: middle;\n",
       "    }\n",
       "\n",
       "    .dataframe tbody tr th {\n",
       "        vertical-align: top;\n",
       "    }\n",
       "\n",
       "    .dataframe thead th {\n",
       "        text-align: right;\n",
       "    }\n",
       "</style>\n",
       "<table border=\"1\" class=\"dataframe\">\n",
       "  <thead>\n",
       "    <tr style=\"text-align: right;\">\n",
       "      <th></th>\n",
       "      <th>first_x</th>\n",
       "      <th>first_y</th>\n",
       "      <th>x_0</th>\n",
       "      <th>x_1</th>\n",
       "      <th>x_2</th>\n",
       "      <th>x_3</th>\n",
       "      <th>x_4</th>\n",
       "    </tr>\n",
       "  </thead>\n",
       "  <tbody>\n",
       "    <tr>\n",
       "      <td>0</td>\n",
       "      <td>1528329600000,1517270400000,36.23203295160127,...</td>\n",
       "      <td>end</td>\n",
       "      <td>1.528330e+12</td>\n",
       "      <td>1.517270e+12</td>\n",
       "      <td>36.232033</td>\n",
       "      <td>1.509667e+12</td>\n",
       "      <td>38.79844</td>\n",
       "    </tr>\n",
       "    <tr>\n",
       "      <td>1</td>\n",
       "      <td></td>\n",
       "      <td></td>\n",
       "      <td>NaN</td>\n",
       "      <td>NaN</td>\n",
       "      <td>NaN</td>\n",
       "      <td>NaN</td>\n",
       "      <td>NaN</td>\n",
       "    </tr>\n",
       "    <tr>\n",
       "      <td>2</td>\n",
       "      <td></td>\n",
       "      <td></td>\n",
       "      <td>NaN</td>\n",
       "      <td>NaN</td>\n",
       "      <td>NaN</td>\n",
       "      <td>NaN</td>\n",
       "      <td>NaN</td>\n",
       "    </tr>\n",
       "    <tr>\n",
       "      <td>3</td>\n",
       "      <td></td>\n",
       "      <td></td>\n",
       "      <td>NaN</td>\n",
       "      <td>NaN</td>\n",
       "      <td>NaN</td>\n",
       "      <td>NaN</td>\n",
       "      <td>NaN</td>\n",
       "    </tr>\n",
       "    <tr>\n",
       "      <td>4</td>\n",
       "      <td>1528329600000,1517270400000,36.23203295160127,...</td>\n",
       "      <td>end</td>\n",
       "      <td>1.528330e+12</td>\n",
       "      <td>1.517270e+12</td>\n",
       "      <td>36.232033</td>\n",
       "      <td>1.509667e+12</td>\n",
       "      <td>38.79844</td>\n",
       "    </tr>\n",
       "  </tbody>\n",
       "</table>\n",
       "</div>"
      ],
      "text/plain": [
       "                                             first_x first_y           x_0  \\\n",
       "0  1528329600000,1517270400000,36.23203295160127,...     end  1.528330e+12   \n",
       "1                                                                      NaN   \n",
       "2                                                                      NaN   \n",
       "3                                                                      NaN   \n",
       "4  1528329600000,1517270400000,36.23203295160127,...     end  1.528330e+12   \n",
       "\n",
       "            x_1        x_2           x_3       x_4  \n",
       "0  1.517270e+12  36.232033  1.509667e+12  38.79844  \n",
       "1           NaN        NaN           NaN       NaN  \n",
       "2           NaN        NaN           NaN       NaN  \n",
       "3           NaN        NaN           NaN       NaN  \n",
       "4  1.517270e+12  36.232033  1.509667e+12  38.79844  "
      ]
     },
     "execution_count": 83,
     "metadata": {},
     "output_type": "execute_result"
    }
   ],
   "source": [
    "data3"
   ]
  },
  {
   "cell_type": "code",
   "execution_count": 84,
   "metadata": {},
   "outputs": [
    {
     "data": {
      "text/html": [
       "<div>\n",
       "<style scoped>\n",
       "    .dataframe tbody tr th:only-of-type {\n",
       "        vertical-align: middle;\n",
       "    }\n",
       "\n",
       "    .dataframe tbody tr th {\n",
       "        vertical-align: top;\n",
       "    }\n",
       "\n",
       "    .dataframe thead th {\n",
       "        text-align: right;\n",
       "    }\n",
       "</style>\n",
       "<table border=\"1\" class=\"dataframe\">\n",
       "  <thead>\n",
       "    <tr style=\"text-align: right;\">\n",
       "      <th></th>\n",
       "      <th>first_x</th>\n",
       "      <th>first_y</th>\n",
       "      <th>xx</th>\n",
       "      <th>Value</th>\n",
       "    </tr>\n",
       "  </thead>\n",
       "  <tbody>\n",
       "    <tr>\n",
       "      <td>0</td>\n",
       "      <td>1528329600000,1517270400000,36.23203295160127,...</td>\n",
       "      <td>end</td>\n",
       "      <td>x_0</td>\n",
       "      <td>1.528330e+12</td>\n",
       "    </tr>\n",
       "    <tr>\n",
       "      <td>4</td>\n",
       "      <td>1528329600000,1517270400000,36.23203295160127,...</td>\n",
       "      <td>end</td>\n",
       "      <td>x_0</td>\n",
       "      <td>1.528330e+12</td>\n",
       "    </tr>\n",
       "    <tr>\n",
       "      <td>5</td>\n",
       "      <td>1528329600000,1517270400000,36.23203295160127,...</td>\n",
       "      <td>end</td>\n",
       "      <td>x_1</td>\n",
       "      <td>1.517270e+12</td>\n",
       "    </tr>\n",
       "    <tr>\n",
       "      <td>9</td>\n",
       "      <td>1528329600000,1517270400000,36.23203295160127,...</td>\n",
       "      <td>end</td>\n",
       "      <td>x_1</td>\n",
       "      <td>1.517270e+12</td>\n",
       "    </tr>\n",
       "    <tr>\n",
       "      <td>14</td>\n",
       "      <td>1528329600000,1517270400000,36.23203295160127,...</td>\n",
       "      <td>end</td>\n",
       "      <td>x_2</td>\n",
       "      <td>3.623203e+01</td>\n",
       "    </tr>\n",
       "    <tr>\n",
       "      <td>10</td>\n",
       "      <td>1528329600000,1517270400000,36.23203295160127,...</td>\n",
       "      <td>end</td>\n",
       "      <td>x_2</td>\n",
       "      <td>3.623203e+01</td>\n",
       "    </tr>\n",
       "    <tr>\n",
       "      <td>15</td>\n",
       "      <td>1528329600000,1517270400000,36.23203295160127,...</td>\n",
       "      <td>end</td>\n",
       "      <td>x_3</td>\n",
       "      <td>1.509667e+12</td>\n",
       "    </tr>\n",
       "    <tr>\n",
       "      <td>19</td>\n",
       "      <td>1528329600000,1517270400000,36.23203295160127,...</td>\n",
       "      <td>end</td>\n",
       "      <td>x_3</td>\n",
       "      <td>1.509667e+12</td>\n",
       "    </tr>\n",
       "    <tr>\n",
       "      <td>20</td>\n",
       "      <td>1528329600000,1517270400000,36.23203295160127,...</td>\n",
       "      <td>end</td>\n",
       "      <td>x_4</td>\n",
       "      <td>3.879844e+01</td>\n",
       "    </tr>\n",
       "    <tr>\n",
       "      <td>24</td>\n",
       "      <td>1528329600000,1517270400000,36.23203295160127,...</td>\n",
       "      <td>end</td>\n",
       "      <td>x_4</td>\n",
       "      <td>3.879844e+01</td>\n",
       "    </tr>\n",
       "  </tbody>\n",
       "</table>\n",
       "</div>"
      ],
      "text/plain": [
       "                                              first_x first_y   xx  \\\n",
       "0   1528329600000,1517270400000,36.23203295160127,...     end  x_0   \n",
       "4   1528329600000,1517270400000,36.23203295160127,...     end  x_0   \n",
       "5   1528329600000,1517270400000,36.23203295160127,...     end  x_1   \n",
       "9   1528329600000,1517270400000,36.23203295160127,...     end  x_1   \n",
       "14  1528329600000,1517270400000,36.23203295160127,...     end  x_2   \n",
       "10  1528329600000,1517270400000,36.23203295160127,...     end  x_2   \n",
       "15  1528329600000,1517270400000,36.23203295160127,...     end  x_3   \n",
       "19  1528329600000,1517270400000,36.23203295160127,...     end  x_3   \n",
       "20  1528329600000,1517270400000,36.23203295160127,...     end  x_4   \n",
       "24  1528329600000,1517270400000,36.23203295160127,...     end  x_4   \n",
       "\n",
       "           Value  \n",
       "0   1.528330e+12  \n",
       "4   1.528330e+12  \n",
       "5   1.517270e+12  \n",
       "9   1.517270e+12  \n",
       "14  3.623203e+01  \n",
       "10  3.623203e+01  \n",
       "15  1.509667e+12  \n",
       "19  1.509667e+12  \n",
       "20  3.879844e+01  \n",
       "24  3.879844e+01  "
      ]
     },
     "execution_count": 84,
     "metadata": {},
     "output_type": "execute_result"
    }
   ],
   "source": [
    "data3 = data3.melt(id_vars = [\"first_x\",\"first_y\"],\n",
    "                 var_name = \"xx\",\n",
    "                 value_name = \"Value\")\n",
    "\n",
    "data3 = data3.sort_values(by = [\"xx\"])\n",
    "data3 = data3.mask(data3.eq('None')).dropna()\n",
    "data3['Value'].replace('',np.nan, inplace=True)\n",
    "data3.dropna(subset=['Value'], inplace = True)\n",
    "data3"
   ]
  },
  {
   "cell_type": "code",
   "execution_count": 88,
   "metadata": {
    "scrolled": true
   },
   "outputs": [
    {
     "data": {
      "image/png": "[encoded data removed]",
      "text/plain": [
       "<Figure size 720x360 with 1 Axes>"
      ]
     },
     "metadata": {
      "needs_background": "light"
     },
     "output_type": "display_data"
    }
   ],
   "source": [
    "data3[\"xx\"].value_counts()\n",
    "graph_x = data3['Value'][0:10].tolist()\n",
    "fig= plt.figure(figsize=(10, 5))\n",
    "plt.title(\"Flat Base\")\n",
    "plt.xticks(rotation=90)\n",
    "plt.plot(graph_x,marker=\".\")\n",
    "plt.show()"
   ]
  },
  {
   "cell_type": "code",
   "execution_count": null,
   "metadata": {},
   "outputs": [],
   "source": []
  },
  {
   "cell_type": "code",
   "execution_count": 89,
   "metadata": {},
   "outputs": [
    {
     "data": {
      "image/png": "[encoded data removed]",
      "text/plain": [
       "<Figure size 720x360 with 1 Axes>"
      ]
     },
     "metadata": {
      "needs_background": "light"
     },
     "output_type": "display_data"
    }
   ],
   "source": [
    "data = pd.read_csv('D:\\\\Learning\\\\Time Series Analysis - Real time data\\\\Flat_Base\\\\Flat_Base_updated.csv', encoding=\"utf-8\")\n",
    "data['end'] = data['end'] .apply(str)\n",
    "data['line_start'] = data['line_start'] .apply(str)\n",
    "data['lower_line_y_val'] = data['lower_line_y_val'] .apply(str)\n",
    "data['start_point'] = data['start_point'] .apply(str)\n",
    "data['upper_line_y_val'] = data['upper_line_y_val'] .apply(str)\n",
    "data['x']=data['end']+\",\"+data['line_start']+\",\"+data['lower_line_y_val']+\",\"+data['start_point']+\",\"+data['upper_line_y_val']\n",
    "data['y']=['end','line_start','lower_line_y_val','start_point','upper_line_y_val']\n",
    "data = data.drop(columns=['Unnamed: 0'])\n",
    "data1=data[[\"x\",\"y\"]]\n",
    "data1.to_csv('D:\\\\Learning\\\\Time Series Analysis - Real time data\\\\Flat_Base\\\\Flat_Base_updated1_only_co-ordinates.csv')\n",
    "data11 = pd.read_csv('D:\\\\Learning\\\\Time Series Analysis - Real time data\\\\Flat_Base\\\\Flat_Base_updated1_only_co-ordinates.csv', encoding = \"utf-8\")\n",
    "data11 = data11.drop(columns=['Unnamed: 0'])\n",
    "data2 = pd.DataFrame(data11)\n",
    "data2[\"first_x\"] = data2[\"x\"][1]\n",
    "data2[\"first_y\"] = data2[\"y\"][1]\n",
    "data2[\"first_x\"][1:4] = \"\"\n",
    "data2[\"first_y\"][1:4] = \"\"\n",
    "data2[\"x\"].apply(lambda x: len(x.split(',')))\n",
    "data3 = data2.drop(columns=['x','y'])\n",
    "newx = data3[\"first_x\"].str.split(\",\", n =4, expand = True)\n",
    "newy = data3[\"first_y\"].str.split(\",\", n =4, expand = True)\n",
    "data3[\"x_0\"] = pd.to_numeric(newx[0])\n",
    "data3[\"x_1\"] = pd.to_numeric(newx[1])\n",
    "data3[\"x_2\"] = pd.to_numeric(newx[2])\n",
    "data3[\"x_3\"] = pd.to_numeric(newx[3])\n",
    "data3[\"x_4\"] = pd.to_numeric(newx[4])\n",
    "data3 = data3.melt(id_vars = [\"first_x\",\"first_y\"],\n",
    "                 var_name = \"xx\",\n",
    "                 value_name = \"Value\")\n",
    "\n",
    "data3 = data3.sort_values(by = [\"xx\"])\n",
    "data3 = data3.mask(data3.eq('None')).dropna()\n",
    "data3['Value'].replace('',np.nan, inplace=True)\n",
    "data3.dropna(subset=['Value'], inplace = True)\n",
    "data3[\"xx\"].value_counts()\n",
    "graph_x = data3['Value'][0:10].tolist()\n",
    "fig= plt.figure(figsize=(10, 5))\n",
    "plt.title(\"Flat Base\")\n",
    "plt.xticks(rotation=90)\n",
    "plt.plot(graph_x,marker=\".\")\n",
    "plt.show()"
   ]
  },
  {
   "cell_type": "code",
   "execution_count": null,
   "metadata": {},
   "outputs": [],
   "source": []
  },
  {
   "cell_type": "code",
   "execution_count": 90,
   "metadata": {},
   "outputs": [
    {
     "data": {
      "image/png": "[encoded data removed]",
      "text/plain": [
       "<Figure size 720x360 with 1 Axes>"
      ]
     },
     "metadata": {
      "needs_background": "light"
     },
     "output_type": "display_data"
    }
   ],
   "source": [
    "data = pd.read_csv('D:\\\\Learning\\\\Time Series Analysis - Real time data\\\\Flat_Base\\\\Flat_Base_updated.csv', encoding=\"utf-8\")\n",
    "data['end'] = data['end'] .apply(str)\n",
    "data['line_start'] = data['line_start'] .apply(str)\n",
    "data['lower_line_y_val'] = data['lower_line_y_val'] .apply(str)\n",
    "data['start_point'] = data['start_point'] .apply(str)\n",
    "data['upper_line_y_val'] = data['upper_line_y_val'] .apply(str)\n",
    "data['x']=data['end']+\",\"+data['line_start']+\",\"+data['lower_line_y_val']+\",\"+data['start_point']+\",\"+data['upper_line_y_val']\n",
    "data['y']=['end','line_start','lower_line_y_val','start_point','upper_line_y_val']\n",
    "data = data.drop(columns=['Unnamed: 0'])\n",
    "data1=data[[\"x\",\"y\"]]\n",
    "data1.to_csv('D:\\\\Learning\\\\Time Series Analysis - Real time data\\\\Flat_Base\\\\Flat_Base_updated1_only_co-ordinates.csv')\n",
    "data11 = pd.read_csv('D:\\\\Learning\\\\Time Series Analysis - Real time data\\\\Flat_Base\\\\Flat_Base_updated1_only_co-ordinates.csv', encoding = \"utf-8\")\n",
    "data11 = data11.drop(columns=['Unnamed: 0'])\n",
    "data2 = pd.DataFrame(data11)\n",
    "data2[\"first_x\"] = data2[\"x\"][2]\n",
    "data2[\"first_y\"] = data2[\"y\"][2]\n",
    "data2[\"first_x\"][1:4] = \"\"\n",
    "data2[\"first_y\"][1:4] = \"\"\n",
    "data2[\"x\"].apply(lambda x: len(x.split(',')))\n",
    "data3 = data2.drop(columns=['x','y'])\n",
    "newx = data3[\"first_x\"].str.split(\",\", n =4, expand = True)\n",
    "newy = data3[\"first_y\"].str.split(\",\", n =4, expand = True)\n",
    "data3[\"x_0\"] = pd.to_numeric(newx[0])\n",
    "data3[\"x_1\"] = pd.to_numeric(newx[1])\n",
    "data3[\"x_2\"] = pd.to_numeric(newx[2])\n",
    "data3[\"x_3\"] = pd.to_numeric(newx[3])\n",
    "data3[\"x_4\"] = pd.to_numeric(newx[4])\n",
    "data3 = data3.melt(id_vars = [\"first_x\",\"first_y\"],\n",
    "                 var_name = \"xx\",\n",
    "                 value_name = \"Value\")\n",
    "\n",
    "data3 = data3.sort_values(by = [\"xx\"])\n",
    "data3 = data3.mask(data3.eq('None')).dropna()\n",
    "data3['Value'].replace('',np.nan, inplace=True)\n",
    "data3.dropna(subset=['Value'], inplace = True)\n",
    "data3[\"xx\"].value_counts()\n",
    "graph_x = data3['Value'][0:10].tolist()\n",
    "fig= plt.figure(figsize=(10, 5))\n",
    "plt.title(\"Flat Base\")\n",
    "plt.xticks(rotation=90)\n",
    "plt.plot(graph_x,marker=\".\")\n",
    "plt.show()"
   ]
  },
  {
   "cell_type": "code",
   "execution_count": null,
   "metadata": {},
   "outputs": [],
   "source": []
  },
  {
   "cell_type": "code",
   "execution_count": 91,
   "metadata": {},
   "outputs": [
    {
     "data": {
      "image/png": "[encoded data removed]",
      "text/plain": [
       "<Figure size 720x360 with 1 Axes>"
      ]
     },
     "metadata": {
      "needs_background": "light"
     },
     "output_type": "display_data"
    }
   ],
   "source": [
    "data = pd.read_csv('D:\\\\Learning\\\\Time Series Analysis - Real time data\\\\Flat_Base\\\\Flat_Base_updated.csv', encoding=\"utf-8\")\n",
    "data['end'] = data['end'] .apply(str)\n",
    "data['line_start'] = data['line_start'] .apply(str)\n",
    "data['lower_line_y_val'] = data['lower_line_y_val'] .apply(str)\n",
    "data['start_point'] = data['start_point'] .apply(str)\n",
    "data['upper_line_y_val'] = data['upper_line_y_val'] .apply(str)\n",
    "data['x']=data['end']+\",\"+data['line_start']+\",\"+data['lower_line_y_val']+\",\"+data['start_point']+\",\"+data['upper_line_y_val']\n",
    "data['y']=['end','line_start','lower_line_y_val','start_point','upper_line_y_val']\n",
    "data = data.drop(columns=['Unnamed: 0'])\n",
    "data1=data[[\"x\",\"y\"]]\n",
    "data1.to_csv('D:\\\\Learning\\\\Time Series Analysis - Real time data\\\\Flat_Base\\\\Flat_Base_updated1_only_co-ordinates.csv')\n",
    "data11 = pd.read_csv('D:\\\\Learning\\\\Time Series Analysis - Real time data\\\\Flat_Base\\\\Flat_Base_updated1_only_co-ordinates.csv', encoding = \"utf-8\")\n",
    "data11 = data11.drop(columns=['Unnamed: 0'])\n",
    "data2 = pd.DataFrame(data11)\n",
    "data2[\"first_x\"] = data2[\"x\"][3]\n",
    "data2[\"first_y\"] = data2[\"y\"][3]\n",
    "data2[\"first_x\"][1:4] = \"\"\n",
    "data2[\"first_y\"][1:4] = \"\"\n",
    "data2[\"x\"].apply(lambda x: len(x.split(',')))\n",
    "data3 = data2.drop(columns=['x','y'])\n",
    "newx = data3[\"first_x\"].str.split(\",\", n =4, expand = True)\n",
    "newy = data3[\"first_y\"].str.split(\",\", n =4, expand = True)\n",
    "data3[\"x_0\"] = pd.to_numeric(newx[0])\n",
    "data3[\"x_1\"] = pd.to_numeric(newx[1])\n",
    "data3[\"x_2\"] = pd.to_numeric(newx[2])\n",
    "data3[\"x_3\"] = pd.to_numeric(newx[3])\n",
    "data3[\"x_4\"] = pd.to_numeric(newx[4])\n",
    "data3 = data3.melt(id_vars = [\"first_x\",\"first_y\"],\n",
    "                 var_name = \"xx\",\n",
    "                 value_name = \"Value\")\n",
    "\n",
    "data3 = data3.sort_values(by = [\"xx\"])\n",
    "data3 = data3.mask(data3.eq('None')).dropna()\n",
    "data3['Value'].replace('',np.nan, inplace=True)\n",
    "data3.dropna(subset=['Value'], inplace = True)\n",
    "data3[\"xx\"].value_counts()\n",
    "graph_x = data3['Value'][0:10].tolist()\n",
    "fig= plt.figure(figsize=(10, 5))\n",
    "plt.title(\"Flat Base\")\n",
    "plt.xticks(rotation=90)\n",
    "plt.plot(graph_x,marker=\".\")\n",
    "plt.show()"
   ]
  },
  {
   "cell_type": "code",
   "execution_count": null,
   "metadata": {},
   "outputs": [],
   "source": []
  },
  {
   "cell_type": "code",
   "execution_count": 92,
   "metadata": {},
   "outputs": [
    {
     "data": {
      "image/png": "[encoded data removed]",
      "text/plain": [
       "<Figure size 720x360 with 1 Axes>"
      ]
     },
     "metadata": {
      "needs_background": "light"
     },
     "output_type": "display_data"
    }
   ],
   "source": [
    "data = pd.read_csv('D:\\\\Learning\\\\Time Series Analysis - Real time data\\\\Flat_Base\\\\Flat_Base_updated.csv', encoding=\"utf-8\")\n",
    "data['end'] = data['end'] .apply(str)\n",
    "data['line_start'] = data['line_start'] .apply(str)\n",
    "data['lower_line_y_val'] = data['lower_line_y_val'] .apply(str)\n",
    "data['start_point'] = data['start_point'] .apply(str)\n",
    "data['upper_line_y_val'] = data['upper_line_y_val'] .apply(str)\n",
    "data['x']=data['end']+\",\"+data['line_start']+\",\"+data['lower_line_y_val']+\",\"+data['start_point']+\",\"+data['upper_line_y_val']\n",
    "data['y']=['end','line_start','lower_line_y_val','start_point','upper_line_y_val']\n",
    "data = data.drop(columns=['Unnamed: 0'])\n",
    "data1=data[[\"x\",\"y\"]]\n",
    "data1.to_csv('D:\\\\Learning\\\\Time Series Analysis - Real time data\\\\Flat_Base\\\\Flat_Base_updated1_only_co-ordinates.csv')\n",
    "data11 = pd.read_csv('D:\\\\Learning\\\\Time Series Analysis - Real time data\\\\Flat_Base\\\\Flat_Base_updated1_only_co-ordinates.csv', encoding = \"utf-8\")\n",
    "data11 = data11.drop(columns=['Unnamed: 0'])\n",
    "data2 = pd.DataFrame(data11)\n",
    "data2[\"first_x\"] = data2[\"x\"][4]\n",
    "data2[\"first_y\"] = data2[\"y\"][4]\n",
    "data2[\"first_x\"][1:4] = \"\"\n",
    "data2[\"first_y\"][1:4] = \"\"\n",
    "data2[\"x\"].apply(lambda x: len(x.split(',')))\n",
    "data3 = data2.drop(columns=['x','y'])\n",
    "newx = data3[\"first_x\"].str.split(\",\", n =4, expand = True)\n",
    "newy = data3[\"first_y\"].str.split(\",\", n =4, expand = True)\n",
    "data3[\"x_0\"] = pd.to_numeric(newx[0])\n",
    "data3[\"x_1\"] = pd.to_numeric(newx[1])\n",
    "data3[\"x_2\"] = pd.to_numeric(newx[2])\n",
    "data3[\"x_3\"] = pd.to_numeric(newx[3])\n",
    "data3[\"x_4\"] = pd.to_numeric(newx[4])\n",
    "data3 = data3.melt(id_vars = [\"first_x\",\"first_y\"],\n",
    "                 var_name = \"xx\",\n",
    "                 value_name = \"Value\")\n",
    "\n",
    "data3 = data3.sort_values(by = [\"xx\"])\n",
    "data3 = data3.mask(data3.eq('None')).dropna()\n",
    "data3['Value'].replace('',np.nan, inplace=True)\n",
    "data3.dropna(subset=['Value'], inplace = True)\n",
    "data3[\"xx\"].value_counts()\n",
    "graph_x = data3['Value'][0:10].tolist()\n",
    "fig= plt.figure(figsize=(10, 5))\n",
    "plt.title(\"Flat Base\")\n",
    "plt.xticks(rotation=90)\n",
    "plt.plot(graph_x,marker=\".\")\n",
    "plt.show()"
   ]
  },
  {
   "cell_type": "code",
   "execution_count": null,
   "metadata": {},
   "outputs": [],
   "source": []
  }
 ],
 "metadata": {
  "kernelspec": {
   "display_name": "Python 3",
   "language": "python",
   "name": "python3"
  },
  "language_info": {
   "codemirror_mode": {
    "name": "ipython",
    "version": 3
   },
   "file_extension": ".py",
   "mimetype": "text/x-python",
   "name": "python",
   "nbconvert_exporter": "python",
   "pygments_lexer": "ipython3",
   "version": "3.7.4"
  }
 },
 "nbformat": 4,
 "nbformat_minor": 2
}
