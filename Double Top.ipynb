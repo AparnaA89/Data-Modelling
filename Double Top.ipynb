{
 "cells": [
  {
   "cell_type": "code",
   "execution_count": 104,
   "metadata": {},
   "outputs": [],
   "source": [
    "import pandas as pd\n",
    "from pandas import DataFrame, read_excel, merge\n",
    "import numpy as np\n",
    "import matplotlib.pyplot as plt\n",
    "#import rex\n",
    "from collections import OrderedDict\n",
    "import seaborn as sns\n",
    "import matplotlib as mt"
   ]
  },
  {
   "cell_type": "code",
   "execution_count": 105,
   "metadata": {},
   "outputs": [],
   "source": [
    "data = pd.read_csv('D:\\\\Learning\\\\Time Series Analysis - Real time data\\\\Double_Top\\\\Double_Top_updated.csv', encoding=\"utf-8\")"
   ]
  },
  {
   "cell_type": "code",
   "execution_count": 106,
   "metadata": {},
   "outputs": [],
   "source": [
    "#data.dtypes"
   ]
  },
  {
   "cell_type": "code",
   "execution_count": 107,
   "metadata": {},
   "outputs": [],
   "source": [
    "data['end']=data['end'].astype(str)\n",
    "data['left_top']=data['left_top'].astype(str)\n",
    "data['mid_point']=data['mid_point'].astype(str)\n",
    "data['right_top']=data['right_top'].astype(str)\n",
    "data['start_point']=data['start_point'].astype(str)\n",
    "data['end1']=data['end1'].astype(str)\n",
    "data['left_top1']=data['left_top1'].astype(str)\n",
    "data['mid_point1']=data['mid_point1'].astype(str)\n",
    "data['right_top1']=data['right_top1'].astype(str)\n",
    "data['start_point1']=data['start_point1'].astype(str)\n",
    "#data['end2']=data['end2'].astype(str)\n",
    "#data['left_top2']=data['left_top2'].astype(str)\n",
    "#data['mid_point2']=data['mid_point2'].astype(str)\n",
    "#data['right_top2']=data['right_top2'].astype(str)\n",
    "#data['start_point2']=data['start_point2'].astype(str)\n",
    "#data['end3']=data['end3'].astype(str)\n",
    "#data['left_top3']=data['left_top3'].astype(str)\n",
    "#data['mid_point3']=data['mid_point3'].astype(str)\n",
    "#data['right_top3']=data['right_top3'].astype(str)\n",
    "#data['start_point3']=data['start_point3'].astype(str)"
   ]
  },
  {
   "cell_type": "code",
   "execution_count": 108,
   "metadata": {},
   "outputs": [],
   "source": [
    "data['x']=data['end']+\",\"+data['left_top']+\",\"+data['mid_point']+\",\"+data['right_top']+\",\"+data['start_point']+\",\"+data['end1']+\",\"+data['left_top1']+\",\"+data['mid_point1']+\",\"+data['right_top1']+\",\"+data['start_point1']\n",
    "data = data.drop(columns=['Unnamed: 0'])\n",
    "data1=data[[\"x\"]]\n",
    "data1.to_csv('D:\\\\Learning\\\\Time Series Analysis - Real time data\\\\Double_Bottom\\\\Double_Bottom_updated1_only_co-ordinates.csv')\n",
    "data11 = pd.read_csv('D:\\\\Learning\\\\Time Series Analysis - Real time data\\\\Double_Bottom\\\\Double_Bottom_updated1_only_co-ordinates.csv', encoding = \"utf-8\")\n",
    "data11 = data11.drop(columns=['Unnamed: 0'])\n",
    "#data11"
   ]
  },
  {
   "cell_type": "code",
   "execution_count": 109,
   "metadata": {},
   "outputs": [],
   "source": [
    "data2 = pd.DataFrame(data11)\n",
    "data2[\"first_x\"] = data2[\"x\"][0]\n",
    "#data2[\"first_y\"] = data2[\"y\"][0]\n",
    "data2[\"first_x\"][1:4] = \"\"\n",
    "#data2[\"first_y\"][1:4] = \"\"\n",
    "data2[\"x\"].apply(lambda x: len(x.split(',')))\n",
    "data3 = data2.drop(columns=['x'])\n",
    "#data3\n",
    "#data2['comma_count'] = data2.x.str.count(',')\n",
    "#data2['comma_count'][0]"
   ]
  },
  {
   "cell_type": "code",
   "execution_count": 110,
   "metadata": {},
   "outputs": [],
   "source": [
    "newx = data3[\"first_x\"].str.split(\",\", n =9, expand = True)\n",
    "#newy = data3[\"first_y\"].str.split(\",\", n =4, expand = True)\n",
    "data3[\"x_0\"] = pd.to_numeric(newx[0])\n",
    "data3[\"x_1\"] = pd.to_numeric(newx[1])\n",
    "data3[\"x_2\"] = pd.to_numeric(newx[2])\n",
    "data3[\"x_3\"] = pd.to_numeric(newx[3])\n",
    "data3[\"x_4\"] = pd.to_numeric(newx[4])\n",
    "data3[\"x_5\"] = pd.to_numeric(newx[5])\n",
    "data3[\"x_6\"] = pd.to_numeric(newx[6])\n",
    "data3[\"x_7\"] = pd.to_numeric(newx[7])\n",
    "data3[\"x_8\"] = pd.to_numeric(newx[8])\n",
    "data3[\"x_9\"] = pd.to_numeric(newx[9])\n",
    "#data3[\"xx_1\"] = pd.to_numeric(newx[10])\n",
    "#data3[\"xx_2\"] = pd.to_numeric(newx[11])\n",
    "#data3[\"xx_3\"] = pd.to_numeric(newx[12])\n",
    "#data3[\"xx_4\"] = pd.to_numeric(newx[13])\n",
    "#data3[\"xx_5\"] = pd.to_numeric(newx[14])\n",
    "#data3[\"xx_6\"] = pd.to_numeric(newx[15])\n",
    "#data3[\"xx_7\"] = pd.to_numeric(newx[16])\n",
    "#data3[\"xx_8\"] = pd.to_numeric(newx[17])\n",
    "#data3[\"xx_9\"] = pd.to_numeric(newx[18])\n",
    "#data3[\"xxx_1\"] = pd.to_numeric(newx[19])"
   ]
  },
  {
   "cell_type": "code",
   "execution_count": 111,
   "metadata": {},
   "outputs": [],
   "source": [
    "data3 = data3.melt(id_vars = [\"first_x\"],\n",
    "                 var_name = \"xx\",\n",
    "                 value_name = \"Value\")\n",
    "\n",
    "data3 = data3.sort_values(by = [\"xx\"])\n",
    "data3 = data3.mask(data3.eq('None')).dropna()\n",
    "data3['Value'].replace('',np.nan, inplace=True)\n",
    "data3.dropna(subset=['Value'], inplace = True)\n",
    "#data3"
   ]
  },
  {
   "cell_type": "code",
   "execution_count": 112,
   "metadata": {
    "scrolled": false
   },
   "outputs": [
    {
     "data": {
      "image/png": "[encoded data removed]",
      "text/plain": [
       "<Figure size 720x360 with 1 Axes>"
      ]
     },
     "metadata": {
      "needs_background": "light"
     },
     "output_type": "display_data"
    }
   ],
   "source": [
    "data3[\"xx\"].value_counts()\n",
    "graph_x = data3['Value'][0:18].tolist()\n",
    "fig= plt.figure(figsize=(10, 5))\n",
    "plt.title(\"Double Top\")\n",
    "plt.xticks(rotation=90)\n",
    "plt.plot(graph_x,marker=\".\")\n",
    "plt.show()"
   ]
  },
  {
   "cell_type": "code",
   "execution_count": null,
   "metadata": {},
   "outputs": [],
   "source": []
  },
  {
   "cell_type": "code",
   "execution_count": 113,
   "metadata": {},
   "outputs": [],
   "source": [
    "data = pd.read_csv('D:\\\\Learning\\\\Time Series Analysis - Real time data\\\\Double_Top\\\\Double_Top_updated.csv', encoding=\"utf-8\")\n",
    "#data.dtypes\n",
    "data['end']=data['end'].astype(str)\n",
    "data['left_top']=data['left_top'].astype(str)\n",
    "data['mid_point']=data['mid_point'].astype(str)\n",
    "data['right_top']=data['right_top'].astype(str)\n",
    "data['start_point']=data['start_point'].astype(str)\n",
    "data['end1']=data['end1'].astype(str)\n",
    "data['left_top1']=data['left_top1'].astype(str)\n",
    "data['mid_point1']=data['mid_point1'].astype(str)\n",
    "data['right_top1']=data['right_top1'].astype(str)\n",
    "data['start_point1']=data['start_point1'].astype(str)"
   ]
  },
  {
   "cell_type": "code",
   "execution_count": 114,
   "metadata": {},
   "outputs": [],
   "source": [
    "data['x']=data['end']+\",\"+data['left_top']+\",\"+data['mid_point']+\",\"+data['right_top']+\",\"+data['start_point']\n",
    "data = data.drop(columns=['Unnamed: 0'])\n",
    "data1=data[[\"x\"]]\n",
    "data1.to_csv('D:\\\\Learning\\\\Time Series Analysis - Real time data\\\\Double_Bottom\\\\Double_Bottom_updated1_only_co-ordinates.csv')\n",
    "data11 = pd.read_csv('D:\\\\Learning\\\\Time Series Analysis - Real time data\\\\Double_Bottom\\\\Double_Bottom_updated1_only_co-ordinates.csv', encoding = \"utf-8\")\n",
    "data11 = data11.drop(columns=['Unnamed: 0'])\n",
    "#data11"
   ]
  },
  {
   "cell_type": "code",
   "execution_count": 115,
   "metadata": {},
   "outputs": [
    {
     "data": {
      "text/plain": [
       "'1540857600000,1538438400000,1538956800000,1539043200000,1532995200000'"
      ]
     },
     "execution_count": 115,
     "metadata": {},
     "output_type": "execute_result"
    }
   ],
   "source": [
    "data2 = pd.DataFrame(data11)\n",
    "data2[\"first_x\"] = data2[\"x\"][1]\n",
    "#data2[\"first_y\"] = data2[\"y\"][1]\n",
    "data2[\"first_x\"][1:4] = \"\"\n",
    "#data2[\"first_y\"][1:4] = \"\"\n",
    "data2[\"x\"].apply(lambda x: len(x.split(',')))\n",
    "data3 = data2.drop(columns=['x'])\n",
    "data3\n",
    "data3['first_x'][0]\n",
    "#data2['comma_count'] = data2.x.str.count(',')\n",
    "#data2['comma_count'][0]"
   ]
  },
  {
   "cell_type": "code",
   "execution_count": 116,
   "metadata": {},
   "outputs": [
    {
     "data": {
      "text/html": [
       "<div>\n",
       "<style scoped>\n",
       "    .dataframe tbody tr th:only-of-type {\n",
       "        vertical-align: middle;\n",
       "    }\n",
       "\n",
       "    .dataframe tbody tr th {\n",
       "        vertical-align: top;\n",
       "    }\n",
       "\n",
       "    .dataframe thead th {\n",
       "        text-align: right;\n",
       "    }\n",
       "</style>\n",
       "<table border=\"1\" class=\"dataframe\">\n",
       "  <thead>\n",
       "    <tr style=\"text-align: right;\">\n",
       "      <th></th>\n",
       "      <th>first_x</th>\n",
       "      <th>xx</th>\n",
       "      <th>Value</th>\n",
       "    </tr>\n",
       "  </thead>\n",
       "  <tbody>\n",
       "    <tr>\n",
       "      <td>0</td>\n",
       "      <td>1540857600000,1538438400000,1538956800000,1539...</td>\n",
       "      <td>x_0</td>\n",
       "      <td>1.540858e+12</td>\n",
       "    </tr>\n",
       "    <tr>\n",
       "      <td>4</td>\n",
       "      <td>1540857600000,1538438400000,1538956800000,1539...</td>\n",
       "      <td>x_0</td>\n",
       "      <td>1.540858e+12</td>\n",
       "    </tr>\n",
       "    <tr>\n",
       "      <td>5</td>\n",
       "      <td>1540857600000,1538438400000,1538956800000,1539...</td>\n",
       "      <td>x_1</td>\n",
       "      <td>1.538438e+12</td>\n",
       "    </tr>\n",
       "    <tr>\n",
       "      <td>9</td>\n",
       "      <td>1540857600000,1538438400000,1538956800000,1539...</td>\n",
       "      <td>x_1</td>\n",
       "      <td>1.538438e+12</td>\n",
       "    </tr>\n",
       "    <tr>\n",
       "      <td>14</td>\n",
       "      <td>1540857600000,1538438400000,1538956800000,1539...</td>\n",
       "      <td>x_2</td>\n",
       "      <td>1.538957e+12</td>\n",
       "    </tr>\n",
       "    <tr>\n",
       "      <td>10</td>\n",
       "      <td>1540857600000,1538438400000,1538956800000,1539...</td>\n",
       "      <td>x_2</td>\n",
       "      <td>1.538957e+12</td>\n",
       "    </tr>\n",
       "    <tr>\n",
       "      <td>15</td>\n",
       "      <td>1540857600000,1538438400000,1538956800000,1539...</td>\n",
       "      <td>x_3</td>\n",
       "      <td>1.539043e+12</td>\n",
       "    </tr>\n",
       "    <tr>\n",
       "      <td>19</td>\n",
       "      <td>1540857600000,1538438400000,1538956800000,1539...</td>\n",
       "      <td>x_3</td>\n",
       "      <td>1.539043e+12</td>\n",
       "    </tr>\n",
       "    <tr>\n",
       "      <td>20</td>\n",
       "      <td>1540857600000,1538438400000,1538956800000,1539...</td>\n",
       "      <td>x_4</td>\n",
       "      <td>1.532995e+12</td>\n",
       "    </tr>\n",
       "    <tr>\n",
       "      <td>24</td>\n",
       "      <td>1540857600000,1538438400000,1538956800000,1539...</td>\n",
       "      <td>x_4</td>\n",
       "      <td>1.532995e+12</td>\n",
       "    </tr>\n",
       "  </tbody>\n",
       "</table>\n",
       "</div>"
      ],
      "text/plain": [
       "                                              first_x   xx         Value\n",
       "0   1540857600000,1538438400000,1538956800000,1539...  x_0  1.540858e+12\n",
       "4   1540857600000,1538438400000,1538956800000,1539...  x_0  1.540858e+12\n",
       "5   1540857600000,1538438400000,1538956800000,1539...  x_1  1.538438e+12\n",
       "9   1540857600000,1538438400000,1538956800000,1539...  x_1  1.538438e+12\n",
       "14  1540857600000,1538438400000,1538956800000,1539...  x_2  1.538957e+12\n",
       "10  1540857600000,1538438400000,1538956800000,1539...  x_2  1.538957e+12\n",
       "15  1540857600000,1538438400000,1538956800000,1539...  x_3  1.539043e+12\n",
       "19  1540857600000,1538438400000,1538956800000,1539...  x_3  1.539043e+12\n",
       "20  1540857600000,1538438400000,1538956800000,1539...  x_4  1.532995e+12\n",
       "24  1540857600000,1538438400000,1538956800000,1539...  x_4  1.532995e+12"
      ]
     },
     "execution_count": 116,
     "metadata": {},
     "output_type": "execute_result"
    }
   ],
   "source": [
    "newx = data3[\"first_x\"].str.split(\",\", n =4, expand = True)\n",
    "#newy = data3[\"first_y\"].str.split(\",\", n =4, expand = True)\n",
    "data3[\"x_0\"] = pd.to_numeric(newx[0])\n",
    "data3[\"x_1\"] = pd.to_numeric(newx[1])\n",
    "data3[\"x_2\"] = pd.to_numeric(newx[2])\n",
    "data3[\"x_3\"] = pd.to_numeric(newx[3])\n",
    "data3[\"x_4\"] = pd.to_numeric(newx[4])\n",
    "#data3[\"x_5\"] = pd.to_numeric(newx[5])\n",
    "#data3[\"x_6\"] = pd.to_numeric(newx[6])\n",
    "#data3[\"x_7\"] = pd.to_numeric(newx[7])\n",
    "#data3[\"x_8\"] = pd.to_numeric(newx[8])\n",
    "#data3[\"x_9\"] = pd.to_numeric(newx[9])\n",
    "data3 = data3.melt(id_vars = [\"first_x\"],\n",
    "                 var_name = \"xx\",\n",
    "                 value_name = \"Value\")\n",
    "\n",
    "data3 = data3.sort_values(by = [\"xx\"])\n",
    "data3 = data3.mask(data3.eq('None')).dropna()\n",
    "data3['Value'].replace('',np.nan, inplace=True)\n",
    "data3.dropna(subset=['Value'], inplace = True)\n",
    "data3\n"
   ]
  },
  {
   "cell_type": "code",
   "execution_count": 117,
   "metadata": {},
   "outputs": [
    {
     "data": {
      "image/png": "[encoded data removed]",
      "text/plain": [
       "<Figure size 720x360 with 1 Axes>"
      ]
     },
     "metadata": {
      "needs_background": "light"
     },
     "output_type": "display_data"
    }
   ],
   "source": [
    "data3[\"xx\"].value_counts()\n",
    "graph_x = data3['Value'][0:10].tolist()\n",
    "fig= plt.figure(figsize=(10, 5))\n",
    "plt.title(\"Double Top\")\n",
    "plt.xticks(rotation=90)\n",
    "plt.plot(graph_x,marker=\".\")\n",
    "plt.show()"
   ]
  },
  {
   "cell_type": "code",
   "execution_count": null,
   "metadata": {},
   "outputs": [],
   "source": []
  },
  {
   "cell_type": "code",
   "execution_count": 118,
   "metadata": {},
   "outputs": [
    {
     "data": {
      "image/png": "[encoded data removed]",
      "text/plain": [
       "<Figure size 720x360 with 1 Axes>"
      ]
     },
     "metadata": {
      "needs_background": "light"
     },
     "output_type": "display_data"
    }
   ],
   "source": [
    "data = pd.read_csv('D:\\\\Learning\\\\Time Series Analysis - Real time data\\\\Double_Top\\\\Double_Top_updated.csv', encoding=\"utf-8\")\n",
    "#data.dtypes\n",
    "data['end']=data['end'].astype(str)\n",
    "data['left_top']=data['left_top'].astype(str)\n",
    "data['mid_point']=data['mid_point'].astype(str)\n",
    "data['right_top']=data['right_top'].astype(str)\n",
    "data['start_point']=data['start_point'].astype(str)\n",
    "data['end1']=data['end1'].astype(str)\n",
    "data['left_top1']=data['left_top1'].astype(str)\n",
    "data['mid_point1']=data['mid_point1'].astype(str)\n",
    "data['right_top1']=data['right_top1'].astype(str)\n",
    "data['start_point1']=data['start_point1'].astype(str)\n",
    "data['x']=data['end']+\",\"+data['left_top']+\",\"+data['mid_point']+\",\"+data['right_top']+\",\"+data['start_point']\n",
    "data = data.drop(columns=['Unnamed: 0'])\n",
    "data1=data[[\"x\"]]\n",
    "data1.to_csv('D:\\\\Learning\\\\Time Series Analysis - Real time data\\\\Double_Bottom\\\\Double_Bottom_updated1_only_co-ordinates.csv')\n",
    "data11 = pd.read_csv('D:\\\\Learning\\\\Time Series Analysis - Real time data\\\\Double_Bottom\\\\Double_Bottom_updated1_only_co-ordinates.csv', encoding = \"utf-8\")\n",
    "data11 = data11.drop(columns=['Unnamed: 0'])\n",
    "#data11\n",
    "data2 = pd.DataFrame(data11)\n",
    "data2[\"first_x\"] = data2[\"x\"][2]\n",
    "#data2[\"first_y\"] = data2[\"y\"][2]\n",
    "data2[\"first_x\"][1:4] = \"\"\n",
    "#data2[\"first_y\"][1:4] = \"\"\n",
    "data2[\"x\"].apply(lambda x: len(x.split(',')))\n",
    "data3 = data2.drop(columns=['x'])\n",
    "data3\n",
    "data3['first_x'][0]\n",
    "#data2['comma_count'] = data2.x.str.count(',')\n",
    "#data2['comma_count'][0]\n",
    "newx = data3[\"first_x\"].str.split(\",\", n =4, expand = True)\n",
    "#newy = data3[\"first_y\"].str.split(\",\", n =4, expand = True)\n",
    "data3[\"x_0\"] = pd.to_numeric(newx[0])\n",
    "data3[\"x_1\"] = pd.to_numeric(newx[1])\n",
    "data3[\"x_2\"] = pd.to_numeric(newx[2])\n",
    "data3[\"x_3\"] = pd.to_numeric(newx[3])\n",
    "data3[\"x_4\"] = pd.to_numeric(newx[4])\n",
    "#data3[\"x_5\"] = pd.to_numeric(newx[5])\n",
    "#data3[\"x_6\"] = pd.to_numeric(newx[6])\n",
    "#data3[\"x_7\"] = pd.to_numeric(newx[7])\n",
    "#data3[\"x_8\"] = pd.to_numeric(newx[8])\n",
    "#data3[\"x_9\"] = pd.to_numeric(newx[9])\n",
    "data3 = data3.melt(id_vars = [\"first_x\"],\n",
    "                 var_name = \"xx\",\n",
    "                 value_name = \"Value\")\n",
    "\n",
    "data3 = data3.sort_values(by = [\"xx\"])\n",
    "data3 = data3.mask(data3.eq('None')).dropna()\n",
    "data3['Value'].replace('',np.nan, inplace=True)\n",
    "data3.dropna(subset=['Value'], inplace = True)\n",
    "data3\n",
    "data3[\"xx\"].value_counts()\n",
    "graph_x = data3['Value'][0:10].tolist()\n",
    "fig= plt.figure(figsize=(10, 5))\n",
    "plt.title(\"Double Top\")\n",
    "plt.xticks(rotation=90)\n",
    "plt.plot(graph_x,marker=\".\")\n",
    "plt.show()"
   ]
  },
  {
   "cell_type": "code",
   "execution_count": null,
   "metadata": {},
   "outputs": [],
   "source": []
  },
  {
   "cell_type": "code",
   "execution_count": 119,
   "metadata": {},
   "outputs": [
    {
     "data": {
      "image/png": "[encoded data removed]",
      "text/plain": [
       "<Figure size 720x360 with 1 Axes>"
      ]
     },
     "metadata": {
      "needs_background": "light"
     },
     "output_type": "display_data"
    }
   ],
   "source": [
    "data = pd.read_csv('D:\\\\Learning\\\\Time Series Analysis - Real time data\\\\Double_Top\\\\Double_Top_updated.csv', encoding=\"utf-8\")\n",
    "data['end']=data['end'].astype(str)\n",
    "data['left_top']=data['left_top'].astype(str)\n",
    "data['mid_point']=data['mid_point'].astype(str)\n",
    "data['right_top']=data['right_top'].astype(str)\n",
    "data['start_point']=data['start_point'].astype(str)\n",
    "data['end1']=data['end1'].astype(str)\n",
    "data['left_top1']=data['left_top1'].astype(str)\n",
    "data['mid_point1']=data['mid_point1'].astype(str)\n",
    "data['right_top1']=data['right_top1'].astype(str)\n",
    "data['start_point1']=data['start_point1'].astype(str)\n",
    "data['x']=data['end']+\",\"+data['left_top']+\",\"+data['mid_point']+\",\"+data['right_top']+\",\"+data['start_point']+\",\"+data['end1']+\",\"+data['left_top1']+\",\"+data['mid_point1']+\",\"+data['right_top1']+\",\"+data['start_point1']\n",
    "data = data.drop(columns=['Unnamed: 0'])\n",
    "data1=data[[\"x\"]]\n",
    "data1.to_csv('D:\\\\Learning\\\\Time Series Analysis - Real time data\\\\Double_Bottom\\\\Double_Bottom_updated1_only_co-ordinates.csv')\n",
    "data11 = pd.read_csv('D:\\\\Learning\\\\Time Series Analysis - Real time data\\\\Double_Bottom\\\\Double_Bottom_updated1_only_co-ordinates.csv', encoding = \"utf-8\")\n",
    "data11 = data11.drop(columns=['Unnamed: 0'])\n",
    "#data11\n",
    "data2 = pd.DataFrame(data11)\n",
    "data2[\"first_x\"] = data2[\"x\"][3]\n",
    "#data2[\"first_y\"] = data2[\"y\"][3]\n",
    "data2[\"first_x\"][1:4] = \"\"\n",
    "#data2[\"first_y\"][1:4] = \"\"\n",
    "data2[\"x\"].apply(lambda x: len(x.split(',')))\n",
    "data3 = data2.drop(columns=['x'])\n",
    "#data3\n",
    "#data2['comma_count'] = data2.x.str.count(',')\n",
    "#data2['comma_count'][0]\n",
    "newx = data3[\"first_x\"].str.split(\",\", n =9, expand = True)\n",
    "#newy = data3[\"first_y\"].str.split(\",\", n =4, expand = True)\n",
    "data3[\"x_0\"] = pd.to_numeric(newx[0])\n",
    "data3[\"x_1\"] = pd.to_numeric(newx[1])\n",
    "data3[\"x_2\"] = pd.to_numeric(newx[2])\n",
    "data3[\"x_3\"] = pd.to_numeric(newx[3])\n",
    "data3[\"x_4\"] = pd.to_numeric(newx[4])\n",
    "data3[\"x_5\"] = pd.to_numeric(newx[5])\n",
    "data3[\"x_6\"] = pd.to_numeric(newx[6])\n",
    "data3[\"x_7\"] = pd.to_numeric(newx[7])\n",
    "data3[\"x_8\"] = pd.to_numeric(newx[8])\n",
    "data3[\"x_9\"] = pd.to_numeric(newx[9])\n",
    "data3 = data3.melt(id_vars = [\"first_x\"],\n",
    "                 var_name = \"xx\",\n",
    "                 value_name = \"Value\")\n",
    "\n",
    "data3 = data3.sort_values(by = [\"xx\"])\n",
    "data3 = data3.mask(data3.eq('None')).dropna()\n",
    "data3['Value'].replace('',np.nan, inplace=True)\n",
    "data3.dropna(subset=['Value'], inplace = True)\n",
    "#data3\n",
    "data3[\"xx\"].value_counts()\n",
    "graph_x = data3['Value'][0:18].tolist()\n",
    "fig= plt.figure(figsize=(10, 5))\n",
    "plt.title(\"Double Top\")\n",
    "plt.xticks(rotation=90)\n",
    "plt.plot(graph_x,marker=\".\")\n",
    "plt.show()"
   ]
  },
  {
   "cell_type": "code",
   "execution_count": null,
   "metadata": {},
   "outputs": [],
   "source": []
  },
  {
   "cell_type": "code",
   "execution_count": 120,
   "metadata": {},
   "outputs": [
    {
     "data": {
      "image/png": "[encoded data removed]",
      "text/plain": [
       "<Figure size 720x360 with 1 Axes>"
      ]
     },
     "metadata": {
      "needs_background": "light"
     },
     "output_type": "display_data"
    }
   ],
   "source": [
    "data = pd.read_csv('D:\\\\Learning\\\\Time Series Analysis - Real time data\\\\Double_Top\\\\Double_Top_updated.csv', encoding=\"utf-8\")\n",
    "#data.dtypes\n",
    "data['end']=data['end'].astype(str)\n",
    "data['left_top']=data['left_top'].astype(str)\n",
    "data['mid_point']=data['mid_point'].astype(str)\n",
    "data['right_top']=data['right_top'].astype(str)\n",
    "data['start_point']=data['start_point'].astype(str)\n",
    "data['end1']=data['end1'].astype(str)\n",
    "data['left_top1']=data['left_top1'].astype(str)\n",
    "data['mid_point1']=data['mid_point1'].astype(str)\n",
    "data['right_top1']=data['right_top1'].astype(str)\n",
    "data['start_point1']=data['start_point1'].astype(str)\n",
    "data['x']=data['end']+\",\"+data['left_top']+\",\"+data['mid_point']+\",\"+data['right_top']+\",\"+data['start_point']\n",
    "data = data.drop(columns=['Unnamed: 0'])\n",
    "data1=data[[\"x\"]]\n",
    "data1.to_csv('D:\\\\Learning\\\\Time Series Analysis - Real time data\\\\Double_Bottom\\\\Double_Bottom_updated1_only_co-ordinates.csv')\n",
    "data11 = pd.read_csv('D:\\\\Learning\\\\Time Series Analysis - Real time data\\\\Double_Bottom\\\\Double_Bottom_updated1_only_co-ordinates.csv', encoding = \"utf-8\")\n",
    "data11 = data11.drop(columns=['Unnamed: 0'])\n",
    "#data11\n",
    "data2 = pd.DataFrame(data11)\n",
    "data2[\"first_x\"] = data2[\"x\"][4]\n",
    "#data2[\"first_y\"] = data2[\"y\"][4]\n",
    "data2[\"first_x\"][1:4] = \"\"\n",
    "#data2[\"first_y\"][1:4] = \"\"\n",
    "data2[\"x\"].apply(lambda x: len(x.split(',')))\n",
    "data3 = data2.drop(columns=['x'])\n",
    "data3\n",
    "data3['first_x'][0]\n",
    "#data2['comma_count'] = data2.x.str.count(',')\n",
    "#data2['comma_count'][0]\n",
    "newx = data3[\"first_x\"].str.split(\",\", n =4, expand = True)\n",
    "#newy = data3[\"first_y\"].str.split(\",\", n =4, expand = True)\n",
    "data3[\"x_0\"] = pd.to_numeric(newx[0])\n",
    "data3[\"x_1\"] = pd.to_numeric(newx[1])\n",
    "data3[\"x_2\"] = pd.to_numeric(newx[2])\n",
    "data3[\"x_3\"] = pd.to_numeric(newx[3])\n",
    "data3[\"x_4\"] = pd.to_numeric(newx[4])\n",
    "#data3[\"x_5\"] = pd.to_numeric(newx[5])\n",
    "#data3[\"x_6\"] = pd.to_numeric(newx[6])\n",
    "#data3[\"x_7\"] = pd.to_numeric(newx[7])\n",
    "#data3[\"x_8\"] = pd.to_numeric(newx[8])\n",
    "#data3[\"x_9\"] = pd.to_numeric(newx[9])\n",
    "data3 = data3.melt(id_vars = [\"first_x\"],\n",
    "                 var_name = \"xx\",\n",
    "                 value_name = \"Value\")\n",
    "\n",
    "data3 = data3.sort_values(by = [\"xx\"])\n",
    "data3 = data3.mask(data3.eq('None')).dropna()\n",
    "data3['Value'].replace('',np.nan, inplace=True)\n",
    "data3.dropna(subset=['Value'], inplace = True)\n",
    "data3\n",
    "data3[\"xx\"].value_counts()\n",
    "graph_x = data3['Value'][0:10].tolist()\n",
    "fig= plt.figure(figsize=(10, 5))\n",
    "plt.title(\"Double Top\")\n",
    "plt.xticks(rotation=90)\n",
    "plt.plot(graph_x,marker=\".\")\n",
    "plt.show()"
   ]
  },
  {
   "cell_type": "code",
   "execution_count": null,
   "metadata": {},
   "outputs": [],
   "source": []
  },
  {
   "cell_type": "code",
   "execution_count": null,
   "metadata": {},
   "outputs": [],
   "source": []
  }
 ],
 "metadata": {
  "kernelspec": {
   "display_name": "Python 3",
   "language": "python",
   "name": "python3"
  },
  "language_info": {
   "codemirror_mode": {
    "name": "ipython",
    "version": 3
   },
   "file_extension": ".py",
   "mimetype": "text/x-python",
   "name": "python",
   "nbconvert_exporter": "python",
   "pygments_lexer": "ipython3",
   "version": "3.7.4"
  }
 },
 "nbformat": 4,
 "nbformat_minor": 2
}
