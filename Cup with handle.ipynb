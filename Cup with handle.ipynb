{
 "cells": [
  {
   "cell_type": "code",
   "execution_count": 317,
   "metadata": {},
   "outputs": [],
   "source": [
    "import pandas as pd\n",
    "from pandas import DataFrame, read_excel, merge\n",
    "import numpy as np\n",
    "import matplotlib.pyplot as plt\n",
    "#import rex\n",
    "from collections import OrderedDict\n",
    "import seaborn as sns\n",
    "import matplotlib as mt"
   ]
  },
  {
   "cell_type": "code",
   "execution_count": 327,
   "metadata": {},
   "outputs": [],
   "source": [
    "data = pd.read_csv('D:\\\\Learning\\\\Time Series Analysis - Real time data\\\\Cup_With_Handle\\\\Cup_With_Handle_updated.csv', encoding=\"utf-8\")"
   ]
  },
  {
   "cell_type": "code",
   "execution_count": 328,
   "metadata": {},
   "outputs": [
    {
     "data": {
      "text/plain": [
       "Unnamed: 0             int64\n",
       "Num                    int64\n",
       "date                  object\n",
       "pattern               object\n",
       "pattern_name          object\n",
       "msecurity              int64\n",
       "colon_count            int64\n",
       "end_count              int64\n",
       "cup_bottom_point       int64\n",
       "cup_start_point        int64\n",
       "end_point              int64\n",
       "handle_start_point     int64\n",
       "start_point            int64\n",
       "dtype: object"
      ]
     },
     "execution_count": 328,
     "metadata": {},
     "output_type": "execute_result"
    }
   ],
   "source": [
    "data.dtypes"
   ]
  },
  {
   "cell_type": "code",
   "execution_count": 329,
   "metadata": {},
   "outputs": [],
   "source": [
    "data['cup_bottom_point'] = data['cup_bottom_point'].apply(str)\n",
    "data['cup_start_point'] = data['cup_start_point'] .apply(str)\n",
    "data['end_point'] = data['end_point'] .apply(str)\n",
    "data['handle_start_point'] = data['handle_start_point'] .apply(str)\n",
    "data['start_point'] = data['start_point'] .apply(str)"
   ]
  },
  {
   "cell_type": "code",
   "execution_count": 330,
   "metadata": {},
   "outputs": [],
   "source": [
    "data['x']=data['cup_bottom_point']+\",\"+data['cup_start_point']+\",\"+data['end_point']+\",\"+data['handle_start_point']+\",\"+data['start_point']\n",
    "data['y']=['cup_bottom_point','cup_start_point','end_point','handle_start_point','start_point']\n",
    "data = data.drop(columns=['Unnamed: 0'])\n",
    "data1=data[[\"x\",\"y\"]]\n",
    "data1.to_csv('D:\\\\Learning\\\\Time Series Analysis - Real time data\\\\cup_with_handle\\\\cup_with_handle_updated1_only_co-ordinates.csv')\n",
    "data11 = pd.read_csv('D:\\\\Learning\\\\Time Series Analysis - Real time data\\\\cup_with_handle\\\\cup_with_handle_updated1_only_co-ordinates.csv', encoding = \"utf-8\")\n",
    "data11 = data11.drop(columns=['Unnamed: 0'])"
   ]
  },
  {
   "cell_type": "code",
   "execution_count": 331,
   "metadata": {},
   "outputs": [],
   "source": [
    "data2 = pd.DataFrame(data11)\n",
    "data2[\"first_x\"] = data2[\"x\"][0]\n",
    "data2[\"first_y\"] = data2[\"y\"][0]\n",
    "data2[\"first_x\"][1:4] = \"\"\n",
    "data2[\"first_y\"][1:4] = \"\"\n",
    "data2[\"x\"].apply(lambda x: len(x.split(',')))\n",
    "data3 = data2.drop(columns=['x','y'])"
   ]
  },
  {
   "cell_type": "code",
   "execution_count": 332,
   "metadata": {},
   "outputs": [],
   "source": [
    "newx = data3[\"first_x\"].str.split(\",\", n =4, expand = True)\n",
    "newy = data3[\"first_y\"].str.split(\",\", n =4, expand = True)\n",
    "data3[\"x_0\"] = pd.to_numeric(newx[0])\n",
    "data3[\"x_1\"] = pd.to_numeric(newx[1])\n",
    "data3[\"x_2\"] = pd.to_numeric(newx[2])\n",
    "data3[\"x_3\"] = pd.to_numeric(newx[3])\n",
    "data3[\"x_4\"] = pd.to_numeric(newx[4])"
   ]
  },
  {
   "cell_type": "code",
   "execution_count": 333,
   "metadata": {},
   "outputs": [
    {
     "data": {
      "text/html": [
       "<div>\n",
       "<style scoped>\n",
       "    .dataframe tbody tr th:only-of-type {\n",
       "        vertical-align: middle;\n",
       "    }\n",
       "\n",
       "    .dataframe tbody tr th {\n",
       "        vertical-align: top;\n",
       "    }\n",
       "\n",
       "    .dataframe thead th {\n",
       "        text-align: right;\n",
       "    }\n",
       "</style>\n",
       "<table border=\"1\" class=\"dataframe\">\n",
       "  <thead>\n",
       "    <tr style=\"text-align: right;\">\n",
       "      <th></th>\n",
       "      <th>first_x</th>\n",
       "      <th>first_y</th>\n",
       "      <th>x_0</th>\n",
       "      <th>x_1</th>\n",
       "      <th>x_2</th>\n",
       "      <th>x_3</th>\n",
       "      <th>x_4</th>\n",
       "    </tr>\n",
       "  </thead>\n",
       "  <tbody>\n",
       "    <tr>\n",
       "      <td>0</td>\n",
       "      <td>1487894400000,1483660800000,1490572800000,1489...</td>\n",
       "      <td>cup_bottom_point</td>\n",
       "      <td>1.487894e+12</td>\n",
       "      <td>1.483661e+12</td>\n",
       "      <td>1.490573e+12</td>\n",
       "      <td>1.489709e+12</td>\n",
       "      <td>1.483402e+12</td>\n",
       "    </tr>\n",
       "    <tr>\n",
       "      <td>1</td>\n",
       "      <td></td>\n",
       "      <td></td>\n",
       "      <td>NaN</td>\n",
       "      <td>NaN</td>\n",
       "      <td>NaN</td>\n",
       "      <td>NaN</td>\n",
       "      <td>NaN</td>\n",
       "    </tr>\n",
       "    <tr>\n",
       "      <td>2</td>\n",
       "      <td></td>\n",
       "      <td></td>\n",
       "      <td>NaN</td>\n",
       "      <td>NaN</td>\n",
       "      <td>NaN</td>\n",
       "      <td>NaN</td>\n",
       "      <td>NaN</td>\n",
       "    </tr>\n",
       "    <tr>\n",
       "      <td>3</td>\n",
       "      <td></td>\n",
       "      <td></td>\n",
       "      <td>NaN</td>\n",
       "      <td>NaN</td>\n",
       "      <td>NaN</td>\n",
       "      <td>NaN</td>\n",
       "      <td>NaN</td>\n",
       "    </tr>\n",
       "    <tr>\n",
       "      <td>4</td>\n",
       "      <td>1487894400000,1483660800000,1490572800000,1489...</td>\n",
       "      <td>cup_bottom_point</td>\n",
       "      <td>1.487894e+12</td>\n",
       "      <td>1.483661e+12</td>\n",
       "      <td>1.490573e+12</td>\n",
       "      <td>1.489709e+12</td>\n",
       "      <td>1.483402e+12</td>\n",
       "    </tr>\n",
       "  </tbody>\n",
       "</table>\n",
       "</div>"
      ],
      "text/plain": [
       "                                             first_x           first_y  \\\n",
       "0  1487894400000,1483660800000,1490572800000,1489...  cup_bottom_point   \n",
       "1                                                                        \n",
       "2                                                                        \n",
       "3                                                                        \n",
       "4  1487894400000,1483660800000,1490572800000,1489...  cup_bottom_point   \n",
       "\n",
       "            x_0           x_1           x_2           x_3           x_4  \n",
       "0  1.487894e+12  1.483661e+12  1.490573e+12  1.489709e+12  1.483402e+12  \n",
       "1           NaN           NaN           NaN           NaN           NaN  \n",
       "2           NaN           NaN           NaN           NaN           NaN  \n",
       "3           NaN           NaN           NaN           NaN           NaN  \n",
       "4  1.487894e+12  1.483661e+12  1.490573e+12  1.489709e+12  1.483402e+12  "
      ]
     },
     "execution_count": 333,
     "metadata": {},
     "output_type": "execute_result"
    }
   ],
   "source": [
    "data3"
   ]
  },
  {
   "cell_type": "code",
   "execution_count": 334,
   "metadata": {},
   "outputs": [
    {
     "data": {
      "text/html": [
       "<div>\n",
       "<style scoped>\n",
       "    .dataframe tbody tr th:only-of-type {\n",
       "        vertical-align: middle;\n",
       "    }\n",
       "\n",
       "    .dataframe tbody tr th {\n",
       "        vertical-align: top;\n",
       "    }\n",
       "\n",
       "    .dataframe thead th {\n",
       "        text-align: right;\n",
       "    }\n",
       "</style>\n",
       "<table border=\"1\" class=\"dataframe\">\n",
       "  <thead>\n",
       "    <tr style=\"text-align: right;\">\n",
       "      <th></th>\n",
       "      <th>first_x</th>\n",
       "      <th>first_y</th>\n",
       "      <th>xx</th>\n",
       "      <th>Value</th>\n",
       "    </tr>\n",
       "  </thead>\n",
       "  <tbody>\n",
       "    <tr>\n",
       "      <td>0</td>\n",
       "      <td>1487894400000,1483660800000,1490572800000,1489...</td>\n",
       "      <td>cup_bottom_point</td>\n",
       "      <td>x_0</td>\n",
       "      <td>1.487894e+12</td>\n",
       "    </tr>\n",
       "    <tr>\n",
       "      <td>4</td>\n",
       "      <td>1487894400000,1483660800000,1490572800000,1489...</td>\n",
       "      <td>cup_bottom_point</td>\n",
       "      <td>x_0</td>\n",
       "      <td>1.487894e+12</td>\n",
       "    </tr>\n",
       "    <tr>\n",
       "      <td>5</td>\n",
       "      <td>1487894400000,1483660800000,1490572800000,1489...</td>\n",
       "      <td>cup_bottom_point</td>\n",
       "      <td>x_1</td>\n",
       "      <td>1.483661e+12</td>\n",
       "    </tr>\n",
       "    <tr>\n",
       "      <td>9</td>\n",
       "      <td>1487894400000,1483660800000,1490572800000,1489...</td>\n",
       "      <td>cup_bottom_point</td>\n",
       "      <td>x_1</td>\n",
       "      <td>1.483661e+12</td>\n",
       "    </tr>\n",
       "    <tr>\n",
       "      <td>14</td>\n",
       "      <td>1487894400000,1483660800000,1490572800000,1489...</td>\n",
       "      <td>cup_bottom_point</td>\n",
       "      <td>x_2</td>\n",
       "      <td>1.490573e+12</td>\n",
       "    </tr>\n",
       "    <tr>\n",
       "      <td>10</td>\n",
       "      <td>1487894400000,1483660800000,1490572800000,1489...</td>\n",
       "      <td>cup_bottom_point</td>\n",
       "      <td>x_2</td>\n",
       "      <td>1.490573e+12</td>\n",
       "    </tr>\n",
       "    <tr>\n",
       "      <td>15</td>\n",
       "      <td>1487894400000,1483660800000,1490572800000,1489...</td>\n",
       "      <td>cup_bottom_point</td>\n",
       "      <td>x_3</td>\n",
       "      <td>1.489709e+12</td>\n",
       "    </tr>\n",
       "    <tr>\n",
       "      <td>19</td>\n",
       "      <td>1487894400000,1483660800000,1490572800000,1489...</td>\n",
       "      <td>cup_bottom_point</td>\n",
       "      <td>x_3</td>\n",
       "      <td>1.489709e+12</td>\n",
       "    </tr>\n",
       "    <tr>\n",
       "      <td>20</td>\n",
       "      <td>1487894400000,1483660800000,1490572800000,1489...</td>\n",
       "      <td>cup_bottom_point</td>\n",
       "      <td>x_4</td>\n",
       "      <td>1.483402e+12</td>\n",
       "    </tr>\n",
       "    <tr>\n",
       "      <td>24</td>\n",
       "      <td>1487894400000,1483660800000,1490572800000,1489...</td>\n",
       "      <td>cup_bottom_point</td>\n",
       "      <td>x_4</td>\n",
       "      <td>1.483402e+12</td>\n",
       "    </tr>\n",
       "  </tbody>\n",
       "</table>\n",
       "</div>"
      ],
      "text/plain": [
       "                                              first_x           first_y   xx  \\\n",
       "0   1487894400000,1483660800000,1490572800000,1489...  cup_bottom_point  x_0   \n",
       "4   1487894400000,1483660800000,1490572800000,1489...  cup_bottom_point  x_0   \n",
       "5   1487894400000,1483660800000,1490572800000,1489...  cup_bottom_point  x_1   \n",
       "9   1487894400000,1483660800000,1490572800000,1489...  cup_bottom_point  x_1   \n",
       "14  1487894400000,1483660800000,1490572800000,1489...  cup_bottom_point  x_2   \n",
       "10  1487894400000,1483660800000,1490572800000,1489...  cup_bottom_point  x_2   \n",
       "15  1487894400000,1483660800000,1490572800000,1489...  cup_bottom_point  x_3   \n",
       "19  1487894400000,1483660800000,1490572800000,1489...  cup_bottom_point  x_3   \n",
       "20  1487894400000,1483660800000,1490572800000,1489...  cup_bottom_point  x_4   \n",
       "24  1487894400000,1483660800000,1490572800000,1489...  cup_bottom_point  x_4   \n",
       "\n",
       "           Value  \n",
       "0   1.487894e+12  \n",
       "4   1.487894e+12  \n",
       "5   1.483661e+12  \n",
       "9   1.483661e+12  \n",
       "14  1.490573e+12  \n",
       "10  1.490573e+12  \n",
       "15  1.489709e+12  \n",
       "19  1.489709e+12  \n",
       "20  1.483402e+12  \n",
       "24  1.483402e+12  "
      ]
     },
     "execution_count": 334,
     "metadata": {},
     "output_type": "execute_result"
    }
   ],
   "source": [
    "data3 = data3.melt(id_vars = [\"first_x\",\"first_y\"],\n",
    "                 var_name = \"xx\",\n",
    "                 value_name = \"Value\")\n",
    "\n",
    "data3 = data3.sort_values(by = [\"xx\"])\n",
    "data3 = data3.mask(data3.eq('None')).dropna()\n",
    "data3['Value'].replace('',np.nan, inplace=True)\n",
    "data3.dropna(subset=['Value'], inplace = True)\n",
    "data3"
   ]
  },
  {
   "cell_type": "code",
   "execution_count": 352,
   "metadata": {
    "scrolled": true
   },
   "outputs": [
    {
     "data": {
      "image/png": "[encoded data removed]",
      "text/plain": [
       "<Figure size 720x360 with 1 Axes>"
      ]
     },
     "metadata": {
      "needs_background": "light"
     },
     "output_type": "display_data"
    }
   ],
   "source": [
    "data3[\"xx\"].value_counts()\n",
    "graph_x = data3['Value'][1:9].tolist()\n",
    "fig= plt.figure(figsize=(10, 5))\n",
    "plt.title(\"Cup with handle\")\n",
    "plt.xticks(rotation=90)\n",
    "plt.title(\"Cup with handle\")\n",
    "ax=plt.plot(graph_x,marker=\".\")\n",
    "plt.show()"
   ]
  },
  {
   "cell_type": "code",
   "execution_count": null,
   "metadata": {},
   "outputs": [],
   "source": []
  },
  {
   "cell_type": "code",
   "execution_count": 353,
   "metadata": {},
   "outputs": [
    {
     "data": {
      "image/png": "[encoded data removed]",
      "text/plain": [
       "<Figure size 720x360 with 1 Axes>"
      ]
     },
     "metadata": {
      "needs_background": "light"
     },
     "output_type": "display_data"
    }
   ],
   "source": [
    "data = pd.read_csv('D:\\\\Learning\\\\Time Series Analysis - Real time data\\\\Cup_With_Handle\\\\Cup_With_Handle_updated.csv', encoding=\"utf-8\")\n",
    "data['cup_bottom_point'] = data['cup_bottom_point'].apply(str)\n",
    "data['cup_start_point'] = data['cup_start_point'] .apply(str)\n",
    "data['end_point'] = data['end_point'] .apply(str)\n",
    "data['handle_start_point'] = data['handle_start_point'] .apply(str)\n",
    "data['start_point'] = data['start_point'] .apply(str)\n",
    "data['x']=data['cup_bottom_point']+\",\"+data['cup_start_point']+\",\"+data['end_point']+\",\"+data['handle_start_point']+\",\"+data['start_point']\n",
    "data['y']=['cup_bottom_point','cup_start_point','end_point','handle_start_point','start_point']\n",
    "data = data.drop(columns=['Unnamed: 0'])\n",
    "data1=data[[\"x\",\"y\"]]\n",
    "data1.to_csv('D:\\\\Learning\\\\Time Series Analysis - Real time data\\\\cup_with_handle\\\\cup_with_handle_updated1_only_co-ordinates.csv')\n",
    "data11 = pd.read_csv('D:\\\\Learning\\\\Time Series Analysis - Real time data\\\\cup_with_handle\\\\cup_with_handle_updated1_only_co-ordinates.csv', encoding = \"utf-8\")\n",
    "data11 = data11.drop(columns=['Unnamed: 0'])\n",
    "data2 = pd.DataFrame(data11)\n",
    "data2[\"first_x\"] = data2[\"x\"][1]\n",
    "data2[\"first_y\"] = data2[\"y\"][1]\n",
    "data2[\"first_x\"][1:4] = \"\"\n",
    "data2[\"first_y\"][1:4] = \"\"\n",
    "data2[\"x\"].apply(lambda x: len(x.split(',')))\n",
    "data3 = data2.drop(columns=['x','y'])\n",
    "newx = data3[\"first_x\"].str.split(\",\", n =4, expand = True)\n",
    "newy = data3[\"first_y\"].str.split(\",\", n =4, expand = True)\n",
    "data3[\"x_0\"] = pd.to_numeric(newx[0])\n",
    "data3[\"x_1\"] = pd.to_numeric(newx[1])\n",
    "data3[\"x_2\"] = pd.to_numeric(newx[2])\n",
    "data3[\"x_3\"] = pd.to_numeric(newx[3])\n",
    "data3[\"x_4\"] = pd.to_numeric(newx[4])\n",
    "data3 = data3.melt(id_vars = [\"first_x\",\"first_y\"],\n",
    "                 var_name = \"xx\",\n",
    "                 value_name = \"Value\")\n",
    "\n",
    "data3 = data3.sort_values(by = [\"xx\"])\n",
    "data3 = data3.mask(data3.eq('None')).dropna()\n",
    "data3['Value'].replace('',np.nan, inplace=True)\n",
    "data3.dropna(subset=['Value'], inplace = True)\n",
    "data3[\"xx\"].value_counts()\n",
    "graph_x = data3['Value'][1:9].tolist()\n",
    "fig= plt.figure(figsize=(10, 5))\n",
    "plt.title(\"Cup with handle\")\n",
    "plt.xticks(rotation=90)\n",
    "plt.title(\"Cup with handle\")\n",
    "ax=plt.plot(graph_x,marker=\".\")\n",
    "plt.show()"
   ]
  },
  {
   "cell_type": "code",
   "execution_count": null,
   "metadata": {},
   "outputs": [],
   "source": []
  },
  {
   "cell_type": "code",
   "execution_count": 354,
   "metadata": {},
   "outputs": [
    {
     "data": {
      "image/png": "[encoded data removed]",
      "text/plain": [
       "<Figure size 720x360 with 1 Axes>"
      ]
     },
     "metadata": {
      "needs_background": "light"
     },
     "output_type": "display_data"
    }
   ],
   "source": [
    "data = pd.read_csv('D:\\\\Learning\\\\Time Series Analysis - Real time data\\\\Cup_With_Handle\\\\Cup_With_Handle_updated.csv', encoding=\"utf-8\")\n",
    "data['cup_bottom_point'] = data['cup_bottom_point'].apply(str)\n",
    "data['cup_start_point'] = data['cup_start_point'] .apply(str)\n",
    "data['end_point'] = data['end_point'] .apply(str)\n",
    "data['handle_start_point'] = data['handle_start_point'] .apply(str)\n",
    "data['start_point'] = data['start_point'] .apply(str)\n",
    "data['x']=data['cup_bottom_point']+\",\"+data['cup_start_point']+\",\"+data['end_point']+\",\"+data['handle_start_point']+\",\"+data['start_point']\n",
    "data['y']=['cup_bottom_point','cup_start_point','end_point','handle_start_point','start_point']\n",
    "data = data.drop(columns=['Unnamed: 0'])\n",
    "data1=data[[\"x\",\"y\"]]\n",
    "data1.to_csv('D:\\\\Learning\\\\Time Series Analysis - Real time data\\\\cup_with_handle\\\\cup_with_handle_updated1_only_co-ordinates.csv')\n",
    "data11 = pd.read_csv('D:\\\\Learning\\\\Time Series Analysis - Real time data\\\\cup_with_handle\\\\cup_with_handle_updated1_only_co-ordinates.csv', encoding = \"utf-8\")\n",
    "data11 = data11.drop(columns=['Unnamed: 0'])\n",
    "data2 = pd.DataFrame(data11)\n",
    "data2[\"first_x\"] = data2[\"x\"][2]\n",
    "data2[\"first_y\"] = data2[\"y\"][2]\n",
    "data2[\"first_x\"][1:4] = \"\"\n",
    "data2[\"first_y\"][1:4] = \"\"\n",
    "data2[\"x\"].apply(lambda x: len(x.split(',')))\n",
    "data3 = data2.drop(columns=['x','y'])\n",
    "newx = data3[\"first_x\"].str.split(\",\", n =4, expand = True)\n",
    "newy = data3[\"first_y\"].str.split(\",\", n =4, expand = True)\n",
    "data3[\"x_0\"] = pd.to_numeric(newx[0])\n",
    "data3[\"x_1\"] = pd.to_numeric(newx[1])\n",
    "data3[\"x_2\"] = pd.to_numeric(newx[2])\n",
    "data3[\"x_3\"] = pd.to_numeric(newx[3])\n",
    "data3[\"x_4\"] = pd.to_numeric(newx[4])\n",
    "data3 = data3.melt(id_vars = [\"first_x\",\"first_y\"],\n",
    "                 var_name = \"xx\",\n",
    "                 value_name = \"Value\")\n",
    "\n",
    "data3 = data3.sort_values(by = [\"xx\"])\n",
    "data3 = data3.mask(data3.eq('None')).dropna()\n",
    "data3['Value'].replace('',np.nan, inplace=True)\n",
    "data3.dropna(subset=['Value'], inplace = True)\n",
    "data3[\"xx\"].value_counts()\n",
    "graph_x = data3['Value'][1:9].tolist()\n",
    "fig= plt.figure(figsize=(10, 5))\n",
    "plt.title(\"Cup with handle\")\n",
    "plt.xticks(rotation=90)\n",
    "plt.title(\"Cup with handle\")\n",
    "ax=plt.plot(graph_x,marker=\".\")\n",
    "plt.show()"
   ]
  },
  {
   "cell_type": "code",
   "execution_count": null,
   "metadata": {},
   "outputs": [],
   "source": []
  },
  {
   "cell_type": "code",
   "execution_count": 355,
   "metadata": {},
   "outputs": [
    {
     "data": {
      "image/png": "[encoded data removed]",
      "text/plain": [
       "<Figure size 720x360 with 1 Axes>"
      ]
     },
     "metadata": {
      "needs_background": "light"
     },
     "output_type": "display_data"
    }
   ],
   "source": [
    "data = pd.read_csv('D:\\\\Learning\\\\Time Series Analysis - Real time data\\\\Cup_With_Handle\\\\Cup_With_Handle_updated.csv', encoding=\"utf-8\")\n",
    "data['cup_bottom_point'] = data['cup_bottom_point'].apply(str)\n",
    "data['cup_start_point'] = data['cup_start_point'] .apply(str)\n",
    "data['end_point'] = data['end_point'] .apply(str)\n",
    "data['handle_start_point'] = data['handle_start_point'] .apply(str)\n",
    "data['start_point'] = data['start_point'] .apply(str)\n",
    "data['x']=data['cup_bottom_point']+\",\"+data['cup_start_point']+\",\"+data['end_point']+\",\"+data['handle_start_point']+\",\"+data['start_point']\n",
    "data['y']=['cup_bottom_point','cup_start_point','end_point','handle_start_point','start_point']\n",
    "data = data.drop(columns=['Unnamed: 0'])\n",
    "data1=data[[\"x\",\"y\"]]\n",
    "data1.to_csv('D:\\\\Learning\\\\Time Series Analysis - Real time data\\\\cup_with_handle\\\\cup_with_handle_updated1_only_co-ordinates.csv')\n",
    "data11 = pd.read_csv('D:\\\\Learning\\\\Time Series Analysis - Real time data\\\\cup_with_handle\\\\cup_with_handle_updated1_only_co-ordinates.csv', encoding = \"utf-8\")\n",
    "data11 = data11.drop(columns=['Unnamed: 0'])\n",
    "data2 = pd.DataFrame(data11)\n",
    "data2[\"first_x\"] = data2[\"x\"][3]\n",
    "data2[\"first_y\"] = data2[\"y\"][3]\n",
    "data2[\"first_x\"][1:4] = \"\"\n",
    "data2[\"first_y\"][1:4] = \"\"\n",
    "data2[\"x\"].apply(lambda x: len(x.split(',')))\n",
    "data3 = data2.drop(columns=['x','y'])\n",
    "newx = data3[\"first_x\"].str.split(\",\", n =4, expand = True)\n",
    "newy = data3[\"first_y\"].str.split(\",\", n =4, expand = True)\n",
    "data3[\"x_0\"] = pd.to_numeric(newx[0])\n",
    "data3[\"x_1\"] = pd.to_numeric(newx[1])\n",
    "data3[\"x_2\"] = pd.to_numeric(newx[2])\n",
    "data3[\"x_3\"] = pd.to_numeric(newx[3])\n",
    "data3[\"x_4\"] = pd.to_numeric(newx[4])\n",
    "data3 = data3.melt(id_vars = [\"first_x\",\"first_y\"],\n",
    "                 var_name = \"xx\",\n",
    "                 value_name = \"Value\")\n",
    "\n",
    "data3 = data3.sort_values(by = [\"xx\"])\n",
    "data3 = data3.mask(data3.eq('None')).dropna()\n",
    "data3['Value'].replace('',np.nan, inplace=True)\n",
    "data3.dropna(subset=['Value'], inplace = True)\n",
    "data3[\"xx\"].value_counts()\n",
    "graph_x = data3['Value'][1:9].tolist()\n",
    "fig= plt.figure(figsize=(10, 5))\n",
    "plt.title(\"Cup with handle\")\n",
    "plt.xticks(rotation=90)\n",
    "plt.title(\"Cup with handle\")\n",
    "ax=plt.plot(graph_x,marker=\".\")\n",
    "plt.show()"
   ]
  },
  {
   "cell_type": "code",
   "execution_count": null,
   "metadata": {},
   "outputs": [],
   "source": []
  },
  {
   "cell_type": "code",
   "execution_count": 356,
   "metadata": {},
   "outputs": [
    {
     "data": {
      "image/png": "[encoded data removed]",
      "text/plain": [
       "<Figure size 720x360 with 1 Axes>"
      ]
     },
     "metadata": {
      "needs_background": "light"
     },
     "output_type": "display_data"
    }
   ],
   "source": [
    "data = pd.read_csv('D:\\\\Learning\\\\Time Series Analysis - Real time data\\\\Cup_With_Handle\\\\Cup_With_Handle_updated.csv', encoding=\"utf-8\")\n",
    "data['cup_bottom_point'] = data['cup_bottom_point'].apply(str)\n",
    "data['cup_start_point'] = data['cup_start_point'] .apply(str)\n",
    "data['end_point'] = data['end_point'] .apply(str)\n",
    "data['handle_start_point'] = data['handle_start_point'] .apply(str)\n",
    "data['start_point'] = data['start_point'] .apply(str)\n",
    "data['x']=data['cup_bottom_point']+\",\"+data['cup_start_point']+\",\"+data['end_point']+\",\"+data['handle_start_point']+\",\"+data['start_point']\n",
    "data['y']=['cup_bottom_point','cup_start_point','end_point','handle_start_point','start_point']\n",
    "data = data.drop(columns=['Unnamed: 0'])\n",
    "data1=data[[\"x\",\"y\"]]\n",
    "data1.to_csv('D:\\\\Learning\\\\Time Series Analysis - Real time data\\\\cup_with_handle\\\\cup_with_handle_updated1_only_co-ordinates.csv')\n",
    "data11 = pd.read_csv('D:\\\\Learning\\\\Time Series Analysis - Real time data\\\\cup_with_handle\\\\cup_with_handle_updated1_only_co-ordinates.csv', encoding = \"utf-8\")\n",
    "data11 = data11.drop(columns=['Unnamed: 0'])\n",
    "data2 = pd.DataFrame(data11)\n",
    "data2[\"first_x\"] = data2[\"x\"][4]\n",
    "data2[\"first_y\"] = data2[\"y\"][4]\n",
    "data2[\"first_x\"][1:4] = \"\"\n",
    "data2[\"first_y\"][1:4] = \"\"\n",
    "data2[\"x\"].apply(lambda x: len(x.split(',')))\n",
    "data3 = data2.drop(columns=['x','y'])\n",
    "newx = data3[\"first_x\"].str.split(\",\", n =4, expand = True)\n",
    "newy = data3[\"first_y\"].str.split(\",\", n =4, expand = True)\n",
    "data3[\"x_0\"] = pd.to_numeric(newx[0])\n",
    "data3[\"x_1\"] = pd.to_numeric(newx[1])\n",
    "data3[\"x_2\"] = pd.to_numeric(newx[2])\n",
    "data3[\"x_3\"] = pd.to_numeric(newx[3])\n",
    "data3[\"x_4\"] = pd.to_numeric(newx[4])\n",
    "data3 = data3.melt(id_vars = [\"first_x\",\"first_y\"],\n",
    "                 var_name = \"xx\",\n",
    "                 value_name = \"Value\")\n",
    "\n",
    "data3 = data3.sort_values(by = [\"xx\"])\n",
    "data3 = data3.mask(data3.eq('None')).dropna()\n",
    "data3['Value'].replace('',np.nan, inplace=True)\n",
    "data3.dropna(subset=['Value'], inplace = True)\n",
    "data3[\"xx\"].value_counts()\n",
    "graph_x = data3['Value'][1:9].tolist()\n",
    "fig= plt.figure(figsize=(10, 5))\n",
    "plt.title(\"Cup with handle\")\n",
    "plt.xticks(rotation=90)\n",
    "plt.title(\"Cup with handle\")\n",
    "ax=plt.plot(graph_x,marker=\".\")\n",
    "plt.show()"
   ]
  },
  {
   "cell_type": "code",
   "execution_count": null,
   "metadata": {},
   "outputs": [],
   "source": []
  }
 ],
 "metadata": {
  "kernelspec": {
   "display_name": "Python 3",
   "language": "python",
   "name": "python3"
  },
  "language_info": {
   "codemirror_mode": {
    "name": "ipython",
    "version": 3
   },
   "file_extension": ".py",
   "mimetype": "text/x-python",
   "name": "python",
   "nbconvert_exporter": "python",
   "pygments_lexer": "ipython3",
   "version": "3.7.4"
  }
 },
 "nbformat": 4,
 "nbformat_minor": 2
}
