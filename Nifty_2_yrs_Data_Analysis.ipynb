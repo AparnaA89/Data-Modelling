{
 "cells": [
  {
   "cell_type": "code",
   "execution_count": 98,
   "metadata": {},
   "outputs": [],
   "source": [
    "import pandas as pd\n",
    "import numpy as np\n",
    "import seaborn as sns\n",
    "import matplotlib as mt\n",
    "import matplotlib.pyplot as plt\n",
    "from pandas import DataFrame, read_excel, merge"
   ]
  },
  {
   "cell_type": "code",
   "execution_count": 99,
   "metadata": {},
   "outputs": [],
   "source": [
    "Input = pd.read_csv('D:\\\\Learning\\\\Time Series Analysis - Financial\\\\Nifty_2_yrs_V2.csv',parse_dates=[\"Date\"],index_col=\"Date\")"
   ]
  },
  {
   "cell_type": "code",
   "execution_count": 100,
   "metadata": {},
   "outputs": [],
   "source": [
    "df = pd.DataFrame(Input)"
   ]
  },
  {
   "cell_type": "code",
   "execution_count": 101,
   "metadata": {},
   "outputs": [
    {
     "data": {
      "text/html": [
       "<div>\n",
       "<style scoped>\n",
       "    .dataframe tbody tr th:only-of-type {\n",
       "        vertical-align: middle;\n",
       "    }\n",
       "\n",
       "    .dataframe tbody tr th {\n",
       "        vertical-align: top;\n",
       "    }\n",
       "\n",
       "    .dataframe thead th {\n",
       "        text-align: right;\n",
       "    }\n",
       "</style>\n",
       "<table border=\"1\" class=\"dataframe\">\n",
       "  <thead>\n",
       "    <tr style=\"text-align: right;\">\n",
       "      <th></th>\n",
       "      <th>Open</th>\n",
       "      <th>High</th>\n",
       "      <th>Low</th>\n",
       "      <th>Close</th>\n",
       "      <th>Adj Close</th>\n",
       "      <th>Volume</th>\n",
       "    </tr>\n",
       "    <tr>\n",
       "      <th>Date</th>\n",
       "      <th></th>\n",
       "      <th></th>\n",
       "      <th></th>\n",
       "      <th></th>\n",
       "      <th></th>\n",
       "      <th></th>\n",
       "    </tr>\n",
       "  </thead>\n",
       "  <tbody>\n",
       "    <tr>\n",
       "      <td>2018-09-03</td>\n",
       "      <td>11751.799805</td>\n",
       "      <td>11751.799805</td>\n",
       "      <td>11567.400391</td>\n",
       "      <td>11582.349609</td>\n",
       "      <td>11582.349609</td>\n",
       "      <td>234400.0</td>\n",
       "    </tr>\n",
       "    <tr>\n",
       "      <td>2018-09-04</td>\n",
       "      <td>11598.750000</td>\n",
       "      <td>11602.549805</td>\n",
       "      <td>11496.849609</td>\n",
       "      <td>11520.299805</td>\n",
       "      <td>11520.299805</td>\n",
       "      <td>254800.0</td>\n",
       "    </tr>\n",
       "    <tr>\n",
       "      <td>2018-09-05</td>\n",
       "      <td>11514.849609</td>\n",
       "      <td>11542.650391</td>\n",
       "      <td>11393.849609</td>\n",
       "      <td>11476.950195</td>\n",
       "      <td>11476.950195</td>\n",
       "      <td>246100.0</td>\n",
       "    </tr>\n",
       "    <tr>\n",
       "      <td>2018-09-06</td>\n",
       "      <td>11514.150391</td>\n",
       "      <td>11562.250000</td>\n",
       "      <td>11436.049805</td>\n",
       "      <td>11536.900391</td>\n",
       "      <td>11536.900391</td>\n",
       "      <td>247900.0</td>\n",
       "    </tr>\n",
       "    <tr>\n",
       "      <td>2018-09-07</td>\n",
       "      <td>11558.250000</td>\n",
       "      <td>11603.000000</td>\n",
       "      <td>11484.400391</td>\n",
       "      <td>11589.099609</td>\n",
       "      <td>11589.099609</td>\n",
       "      <td>295900.0</td>\n",
       "    </tr>\n",
       "  </tbody>\n",
       "</table>\n",
       "</div>"
      ],
      "text/plain": [
       "                    Open          High           Low         Close  \\\n",
       "Date                                                                 \n",
       "2018-09-03  11751.799805  11751.799805  11567.400391  11582.349609   \n",
       "2018-09-04  11598.750000  11602.549805  11496.849609  11520.299805   \n",
       "2018-09-05  11514.849609  11542.650391  11393.849609  11476.950195   \n",
       "2018-09-06  11514.150391  11562.250000  11436.049805  11536.900391   \n",
       "2018-09-07  11558.250000  11603.000000  11484.400391  11589.099609   \n",
       "\n",
       "               Adj Close    Volume  \n",
       "Date                                \n",
       "2018-09-03  11582.349609  234400.0  \n",
       "2018-09-04  11520.299805  254800.0  \n",
       "2018-09-05  11476.950195  246100.0  \n",
       "2018-09-06  11536.900391  247900.0  \n",
       "2018-09-07  11589.099609  295900.0  "
      ]
     },
     "execution_count": 101,
     "metadata": {},
     "output_type": "execute_result"
    }
   ],
   "source": [
    "df.head()"
   ]
  },
  {
   "cell_type": "code",
   "execution_count": 102,
   "metadata": {},
   "outputs": [
    {
     "data": {
      "text/html": [
       "<div>\n",
       "<style scoped>\n",
       "    .dataframe tbody tr th:only-of-type {\n",
       "        vertical-align: middle;\n",
       "    }\n",
       "\n",
       "    .dataframe tbody tr th {\n",
       "        vertical-align: top;\n",
       "    }\n",
       "\n",
       "    .dataframe thead th {\n",
       "        text-align: right;\n",
       "    }\n",
       "</style>\n",
       "<table border=\"1\" class=\"dataframe\">\n",
       "  <thead>\n",
       "    <tr style=\"text-align: right;\">\n",
       "      <th></th>\n",
       "      <th>Open</th>\n",
       "      <th>High</th>\n",
       "      <th>Low</th>\n",
       "      <th>Close</th>\n",
       "      <th>Adj Close</th>\n",
       "      <th>Volume</th>\n",
       "    </tr>\n",
       "  </thead>\n",
       "  <tbody>\n",
       "    <tr>\n",
       "      <td>count</td>\n",
       "      <td>486.000000</td>\n",
       "      <td>486.000000</td>\n",
       "      <td>486.000000</td>\n",
       "      <td>486.000000</td>\n",
       "      <td>486.000000</td>\n",
       "      <td>4.860000e+02</td>\n",
       "    </tr>\n",
       "    <tr>\n",
       "      <td>mean</td>\n",
       "      <td>11042.420785</td>\n",
       "      <td>11105.916874</td>\n",
       "      <td>10951.825491</td>\n",
       "      <td>11027.436540</td>\n",
       "      <td>11027.436540</td>\n",
       "      <td>5.270700e+05</td>\n",
       "    </tr>\n",
       "    <tr>\n",
       "      <td>std</td>\n",
       "      <td>912.475623</td>\n",
       "      <td>878.606220</td>\n",
       "      <td>940.339085</td>\n",
       "      <td>909.017108</td>\n",
       "      <td>909.017108</td>\n",
       "      <td>2.432511e+05</td>\n",
       "    </tr>\n",
       "    <tr>\n",
       "      <td>min</td>\n",
       "      <td>7735.149902</td>\n",
       "      <td>8036.950195</td>\n",
       "      <td>7511.100098</td>\n",
       "      <td>7610.250000</td>\n",
       "      <td>7610.250000</td>\n",
       "      <td>0.000000e+00</td>\n",
       "    </tr>\n",
       "    <tr>\n",
       "      <td>25%</td>\n",
       "      <td>10701.312500</td>\n",
       "      <td>10752.325195</td>\n",
       "      <td>10602.724609</td>\n",
       "      <td>10665.687500</td>\n",
       "      <td>10665.687500</td>\n",
       "      <td>3.504750e+05</td>\n",
       "    </tr>\n",
       "    <tr>\n",
       "      <td>50%</td>\n",
       "      <td>11152.300293</td>\n",
       "      <td>11228.775391</td>\n",
       "      <td>11063.424805</td>\n",
       "      <td>11132.199707</td>\n",
       "      <td>11132.199707</td>\n",
       "      <td>5.011000e+05</td>\n",
       "    </tr>\n",
       "    <tr>\n",
       "      <td>75%</td>\n",
       "      <td>11724.812256</td>\n",
       "      <td>11768.900391</td>\n",
       "      <td>11638.462158</td>\n",
       "      <td>11691.487549</td>\n",
       "      <td>11691.487549</td>\n",
       "      <td>6.603000e+05</td>\n",
       "    </tr>\n",
       "    <tr>\n",
       "      <td>max</td>\n",
       "      <td>12430.500000</td>\n",
       "      <td>12430.500000</td>\n",
       "      <td>12321.400391</td>\n",
       "      <td>12362.299805</td>\n",
       "      <td>12362.299805</td>\n",
       "      <td>1.811000e+06</td>\n",
       "    </tr>\n",
       "  </tbody>\n",
       "</table>\n",
       "</div>"
      ],
      "text/plain": [
       "               Open          High           Low         Close     Adj Close  \\\n",
       "count    486.000000    486.000000    486.000000    486.000000    486.000000   \n",
       "mean   11042.420785  11105.916874  10951.825491  11027.436540  11027.436540   \n",
       "std      912.475623    878.606220    940.339085    909.017108    909.017108   \n",
       "min     7735.149902   8036.950195   7511.100098   7610.250000   7610.250000   \n",
       "25%    10701.312500  10752.325195  10602.724609  10665.687500  10665.687500   \n",
       "50%    11152.300293  11228.775391  11063.424805  11132.199707  11132.199707   \n",
       "75%    11724.812256  11768.900391  11638.462158  11691.487549  11691.487549   \n",
       "max    12430.500000  12430.500000  12321.400391  12362.299805  12362.299805   \n",
       "\n",
       "             Volume  \n",
       "count  4.860000e+02  \n",
       "mean   5.270700e+05  \n",
       "std    2.432511e+05  \n",
       "min    0.000000e+00  \n",
       "25%    3.504750e+05  \n",
       "50%    5.011000e+05  \n",
       "75%    6.603000e+05  \n",
       "max    1.811000e+06  "
      ]
     },
     "execution_count": 102,
     "metadata": {},
     "output_type": "execute_result"
    }
   ],
   "source": [
    "df.describe()"
   ]
  },
  {
   "cell_type": "code",
   "execution_count": 108,
   "metadata": {},
   "outputs": [
    {
     "data": {
      "text/plain": [
       "Open         2\n",
       "High         2\n",
       "Low          2\n",
       "Close        2\n",
       "Adj Close    2\n",
       "Volume       2\n",
       "dtype: int64"
      ]
     },
     "execution_count": 108,
     "metadata": {},
     "output_type": "execute_result"
    }
   ],
   "source": [
    "df.isna().sum()"
   ]
  },
  {
   "cell_type": "code",
   "execution_count": 109,
   "metadata": {},
   "outputs": [],
   "source": [
    "df = df.dropna(how='any')"
   ]
  },
  {
   "cell_type": "code",
   "execution_count": 110,
   "metadata": {},
   "outputs": [
    {
     "data": {
      "text/plain": [
       "Open         0\n",
       "High         0\n",
       "Low          0\n",
       "Close        0\n",
       "Adj Close    0\n",
       "Volume       0\n",
       "dtype: int64"
      ]
     },
     "execution_count": 110,
     "metadata": {},
     "output_type": "execute_result"
    }
   ],
   "source": [
    "df.isna().sum()"
   ]
  },
  {
   "cell_type": "code",
   "execution_count": 111,
   "metadata": {},
   "outputs": [
    {
     "data": {
      "text/plain": [
       "12183.065132521739"
      ]
     },
     "execution_count": 111,
     "metadata": {},
     "output_type": "execute_result"
    }
   ],
   "source": [
    "df[\"2020-01\"].Close.mean()"
   ]
  },
  {
   "cell_type": "code",
   "execution_count": 112,
   "metadata": {},
   "outputs": [
    {
     "data": {
      "text/plain": [
       "Date\n",
       "2018-09-30    11297.058322\n",
       "2018-10-31    10383.809477\n",
       "2018-11-30    10621.792529\n",
       "2018-12-31    10778.442529\n",
       "2019-01-31    10804.888583\n",
       "2019-02-28    10835.955284\n",
       "2019-03-31    11300.205621\n",
       "2019-04-30    11666.452765\n",
       "2019-05-31    11592.022727\n",
       "2019-06-30    11839.023695\n",
       "2019-07-31    11523.110904\n",
       "2019-08-31    10976.499902\n",
       "2019-09-30    11124.289628\n",
       "2019-10-31    11482.997276\n",
       "2019-11-30    11964.132520\n",
       "2019-12-31    12096.880999\n",
       "2020-01-31    12183.065133\n",
       "2020-02-29    11948.821186\n",
       "2020-03-31     9426.311942\n",
       "2020-04-30     9063.583333\n",
       "2020-05-31     9192.013055\n",
       "2020-06-30    10116.454679\n",
       "2020-07-31    10897.695695\n",
       "2020-08-31    11318.566685\n",
       "Freq: M, Name: Close, dtype: float64"
      ]
     },
     "execution_count": 112,
     "metadata": {},
     "output_type": "execute_result"
    }
   ],
   "source": [
    "df.Close.resample('M').mean()"
   ]
  },
  {
   "cell_type": "code",
   "execution_count": 113,
   "metadata": {},
   "outputs": [
    {
     "data": {
      "image/png": "[encoded data removed]",
      "text/plain": [
       "<Figure size 1152x576 with 1 Axes>"
      ]
     },
     "metadata": {
      "needs_background": "light"
     },
     "output_type": "display_data"
    }
   ],
   "source": [
    "%matplotlib inline\n",
    "fig, ax = plt.subplots(figsize=(16, 8))\n",
    "df['Close'].plot()\n",
    "plt.legend(loc='upper left')\n",
    "plt.grid()\n"
   ]
  },
  {
   "cell_type": "code",
   "execution_count": 114,
   "metadata": {},
   "outputs": [
    {
     "data": {
      "text/plain": [
       "<matplotlib.axes._subplots.AxesSubplot at 0x1fe506291c8>"
      ]
     },
     "execution_count": 114,
     "metadata": {},
     "output_type": "execute_result"
    },
    {
     "data": {
      "image/png": "[encoded data removed]",
      "text/plain": [
       "<Figure size 1152x576 with 1 Axes>"
      ]
     },
     "metadata": {
      "needs_background": "light"
     },
     "output_type": "display_data"
    }
   ],
   "source": [
    "fig, ax = plt.subplots(figsize=(16, 8))\n",
    "df['Close'].resample('M').mean().plot(kind='bar')"
   ]
  },
  {
   "cell_type": "code",
   "execution_count": null,
   "metadata": {},
   "outputs": [],
   "source": []
  }
 ],
 "metadata": {
  "kernelspec": {
   "display_name": "Python 3",
   "language": "python",
   "name": "python3"
  },
  "language_info": {
   "codemirror_mode": {
    "name": "ipython",
    "version": 3
   },
   "file_extension": ".py",
   "mimetype": "text/x-python",
   "name": "python",
   "nbconvert_exporter": "python",
   "pygments_lexer": "ipython3",
   "version": "3.7.4"
  }
 },
 "nbformat": 4,
 "nbformat_minor": 2
}
